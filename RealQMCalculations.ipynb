{
 "cells": [
  {
   "cell_type": "markdown",
   "id": "f1d4e62c",
   "metadata": {},
   "source": [
    "# Real-Valued QM Experiment Calculations"
   ]
  },
  {
   "cell_type": "code",
   "execution_count": 2,
   "id": "78c84a93",
   "metadata": {},
   "outputs": [],
   "source": [
    "import numpy as np\n",
    "from matplotlib import pyplot as plt"
   ]
  },
  {
   "cell_type": "markdown",
   "id": "b41d0e02-39e2-4d7b-94e6-4d9d092b8ef5",
   "metadata": {},
   "source": [
    "## Theoretical calculation using (standard) complex representation<a id='cqm1'></a>"
   ]
  },
  {
   "cell_type": "markdown",
   "id": "5636acee-1f12-4494-b4ef-e0fe42f25c28",
   "metadata": {},
   "source": [
    "Here we outline the theoretical calculations for the experiment. We need vector representations for basis states\n",
    "\n",
    "$$|0\\rangle\\rightarrow\\left(\\begin{array}{c} 1\\\\ 0\\end{array}\\right), \\;\\;\\;\\;\\;\\;\\;\\; |1\\rangle \\rightarrow \\left(\\begin{array}{c} 0\\\\ 1\\end{array}\\right)$$\n",
    "\n",
    "In this (usual) basis, the Pauli operators take the standard representations\n",
    "\n",
    "$$\\hat{\\sigma}^{x} = \\left(\\begin{array}{cc} 0 & 1 \\\\ 1 & 0\\end{array}\\right),\\;\\;\\;\\;\\;\\;\n",
    "\\hat{\\sigma}^{y} = \\left(\\begin{array}{cc} 0 & -i \\\\ i & 0\\end{array}\\right),\\;\\;\\;\\;\\;\\;\n",
    "\\hat{\\sigma}^{z} = \\left(\\begin{array}{cc} 1 & 0 \\\\ 0 & -1\\end{array}\\right).$$"
   ]
  },
  {
   "cell_type": "code",
   "execution_count": 3,
   "id": "4a4e73fd-cd0d-48c2-91d2-1b1dc19999cf",
   "metadata": {},
   "outputs": [],
   "source": [
    "up = np.array([1,0])\n",
    "do = np.array([0,1])\n",
    "\n",
    "sx = np.array([[0,1],[1,0]])\n",
    "sy = np.array([[0,-1j],[1j,0]])\n",
    "sz = np.array([[1,0],[0,-1]])\n",
    "so = np.array([[1,0],[0,1]])"
   ]
  },
  {
   "cell_type": "markdown",
   "id": "b7256400-7884-4f3d-9ec9-69050250e632",
   "metadata": {},
   "source": [
    "Alice uses operators\n",
    "\n",
    "$$\\hat{A}_{1} = \\hat{\\sigma}^{z},\\;\\;\\;\\;\\;\\; \\hat{A}_{2} = \\hat{\\sigma}^{x},\\;\\;\\;\\;\\;\\; \\hat{A}_{3} = \\hat{\\sigma}^{y},$$\n",
    "\n",
    "Bob uses\n",
    "\n",
    "$$\\hat{C}_{1} = \\frac{\\hat{\\sigma}^{z}+\\hat{\\sigma}^{x}}{\\sqrt{2}},\\;\\;\\;\\;\\;\\; \\hat{C}_{2} = \\frac{\\hat{\\sigma}^{z}-\\hat{\\sigma}^{x}}{\\sqrt{2}},\\;\\;\\;\\;\\;\\; \\hat{C}_{3} = \\frac{\\hat{\\sigma}^{z}+\\hat{\\sigma}^{y}}{\\sqrt{2}},$$\n",
    "\n",
    "$$\\hat{C}_{4} = \\frac{\\hat{\\sigma}^{z}-\\hat{\\sigma}^{y}}{\\sqrt{2}},\\;\\;\\;\\;\\;\\; \\hat{C}_{5} = \\frac{\\hat{\\sigma}^{x}+\\hat{\\sigma}^{y}}{\\sqrt{2}},\\;\\;\\;\\;\\;\\; \\hat{C}_{6} = \\frac{\\hat{\\sigma}^{x}-\\hat{\\sigma}^{y}}{\\sqrt{2}},$$\n"
   ]
  },
  {
   "cell_type": "code",
   "execution_count": 4,
   "id": "d1e6b135-e815-4dc8-9a5a-fcf8a481bdd1",
   "metadata": {},
   "outputs": [],
   "source": [
    "x1 = sz\n",
    "x2 = sx\n",
    "x3 = sy\n",
    "\n",
    "z1 = (1/np.sqrt(2))*(sz+sx)\n",
    "z2 = (1/np.sqrt(2))*(sz-sx)\n",
    "z3 = (1/np.sqrt(2))*(sz+sy)\n",
    "z4 = (1/np.sqrt(2))*(sz-sy)\n",
    "z5 = (1/np.sqrt(2))*(sx+sy)\n",
    "z6 = (1/np.sqrt(2))*(sx-sy)"
   ]
  },
  {
   "cell_type": "markdown",
   "id": "95f0d711-b8cf-4af3-ae5f-35872c0f034b",
   "metadata": {},
   "source": [
    "Next we need to represent the entangled Bell states indexed by Bob's two BSM measurement results 00, 01, 10, 11 as\n",
    "\n",
    "$$|\\Phi_{00}\\rangle = \\frac{1}{\\sqrt{2}}\\left(|00\\rangle + |11\\rangle\\right)$$\n",
    "$$|\\Phi_{01}\\rangle = \\frac{1}{\\sqrt{2}}\\left(|00\\rangle - |11\\rangle\\right)$$\n",
    "$$|\\Phi_{10}\\rangle = \\frac{1}{\\sqrt{2}}\\left(|01\\rangle + |10\\rangle\\right)$$\n",
    "$$|\\Phi_{11}\\rangle = \\frac{1}{\\sqrt{2}}\\left(|01\\rangle - |10\\rangle\\right)$$\n",
    "\n",
    "The basic two-qubit basis state representations are obtained from the tensor product\n",
    "\n",
    "$$|00\\rangle = |0\\rangle\\otimes |0\\rangle \\rightarrow \\left(\\begin{array}{c} 1\\\\ 0\\end{array}\\right)\\otimes \\left(\\begin{array}{c} 1\\\\ 0\\end{array}\\right) = \\left(\\begin{array}{c} 1\\\\ 0 \\\\ 0\\\\ 0\\end{array}\\right)$$\n",
    "$$|01\\rangle = |0\\rangle\\otimes |1\\rangle \\rightarrow \\left(\\begin{array}{c} 1\\\\ 0\\end{array}\\right)\\otimes \\left(\\begin{array}{c} 0\\\\ 1\\end{array}\\right) = \\left(\\begin{array}{c} 0\\\\ 1 \\\\ 0\\\\ 0\\end{array}\\right)$$\n",
    "$$|10\\rangle = |1\\rangle\\otimes |0\\rangle \\rightarrow \\left(\\begin{array}{c} 0\\\\ 1\\end{array}\\right)\\otimes \\left(\\begin{array}{c} 1\\\\ 0\\end{array}\\right) = \\left(\\begin{array}{c} 0\\\\ 0 \\\\ 1\\\\ 0\\end{array}\\right)$$\n",
    "$$|11\\rangle = |1\\rangle\\otimes |1\\rangle \\rightarrow \\left(\\begin{array}{c} 0\\\\ 1\\end{array}\\right)\\otimes \\left(\\begin{array}{c} 0\\\\ 1\\end{array}\\right) =\\left(\\begin{array}{c} 0\\\\ 0 \\\\ 0\\\\ 1\\end{array}\\right)$$"
   ]
  },
  {
   "cell_type": "code",
   "execution_count": 5,
   "id": "9be83b00-c844-4071-a521-8840069617bb",
   "metadata": {},
   "outputs": [],
   "source": [
    "basis00 = np.array([1,0,0,0])\n",
    "basis01 = np.array([0,1,0,0])\n",
    "basis10 = np.array([0,0,1,0])\n",
    "basis11 = np.array([0,0,0,1])\n",
    "\n",
    "ϕ00 = (1/np.sqrt(2))*(basis00+basis11)\n",
    "ϕ01 = (1/np.sqrt(2))*(basis00-basis11)\n",
    "ϕ10 = (1/np.sqrt(2))*(basis01+basis10)\n",
    "ϕ11 = (1/np.sqrt(2))*(basis01-basis10)"
   ]
  },
  {
   "cell_type": "markdown",
   "id": "75bd9d0f-c4d9-402e-a927-b51ee75cf21f",
   "metadata": {},
   "source": [
    "The initial state consists of two independently prepared Bell states of the form $|\\Psi\\rangle = |\\Phi_{00}\\rangle\\otimes|\\Phi_{00}\\rangle$"
   ]
  },
  {
   "cell_type": "code",
   "execution_count": 6,
   "id": "7568fb05-62b2-4216-9432-171bf13d059c",
   "metadata": {},
   "outputs": [],
   "source": [
    "ψ = np.kron(ϕ00,ϕ00)"
   ]
  },
  {
   "cell_type": "markdown",
   "id": "3501aa4f-6dcd-49fc-9658-d8c2cd94eba5",
   "metadata": {},
   "source": [
    "The experiment consists of Alice and Charlie performing measurements on their qubits using their operators (labeled $x$ and $z$, respectively), obtaining values $a,c=\\pm1$, respectively. Bob takes one qubit from each pair and performs a Bell state measurement on the pair, obtaining $b\\equiv b_{2}b_{1} \\in\\left\\{00,01,10,11\\right\\}$. In each instance, Alice and Bob randomly select operators from their respective sets. After many repetitions, they reconstruct the probability distribution $P(abc|xz)$. From this, they compute the following correlation or \"score\"\n",
    "\n",
    "$$\\Gamma = \\sum_{b}\\mathcal{T}_{b},$$\n",
    "\n",
    "where\n",
    "\n",
    "$$\\mathcal{T}_{b} = (-1)^{b_{2}}(S_{11}^{b}+S_{12}^{b})+(-1)^{b_{1}}(S_{21}^{b}-S_{22}^{b})+(-1)^{b_{2}}(S_{13}^{b}+S_{14}^{b})-(-1)^{b_{1}+b_{2}}(S_{33}^{b}-S_{34}^{b})+(-1)^{b_{1}}(S_{25}^{b}+S_{26}^{b})-(-1)^{b_{1}+b_{2}}(S_{35}^{b}-S_{36}^{b}),$$\n",
    "\n",
    "$$S_{xz}^{b} = \\sum_{a,c=\\pm1}P(abc|xz)ac,$$\n",
    "\n",
    "In order to compute $P(abc|xz)$, we imagine eigenvectors $|a\\rangle$ and $|c\\rangle$ corresponding to measurments $a$ and $c$, respectively. Given Bob's measurement $b$ corresponding to the Bell state $|\\Phi_{b}\\rangle$, the probability is given by the Born rule\n",
    "\n",
    "$$P(abc|xz) = \\left|\\left[\\langle a| \\otimes \\langle \\Phi_{b} | \\otimes \\langle c |\\right] |\\Psi\\rangle \\right|^{2}$$\n",
    "\n",
    "The remaining work is to organize the eigenvalues and eigenvectors for each of Alice's and Charlie's operators in order to compute the probabilities. \n",
    "\n",
    "Below, we use `numpy` to compute eigenvalues and corresponding eigenvectors for each operator. The sorting operation ensures that the positive eigenvalue is listed before the negative eigenvalue."
   ]
  },
  {
   "cell_type": "code",
   "execution_count": 7,
   "id": "5e015552-1564-443d-8bcb-fa0cc7430271",
   "metadata": {},
   "outputs": [],
   "source": [
    "a,b = np.linalg.eig(x1)\n",
    "\n",
    "idx = a.argsort()[::-1]   \n",
    "a = a[idx]\n",
    "b = b[:,idx]\n",
    "\n",
    "ex1m = b[:,1]\n",
    "ex1p = b[:,0]\n",
    "\n",
    "a,b = np.linalg.eig(x2)\n",
    "\n",
    "idx = a.argsort()[::-1]   \n",
    "a = a[idx]\n",
    "b = b[:,idx]\n",
    "\n",
    "ex2m = b[:,1]\n",
    "ex2p = b[:,0]\n",
    "\n",
    "a,b = np.linalg.eig(x3)\n",
    "\n",
    "idx = a.argsort()[::-1]   \n",
    "a = a[idx]\n",
    "b = b[:,idx]\n",
    "\n",
    "ex3m = b[:,1]\n",
    "ex3p = b[:,0]\n",
    "\n",
    "a,b = np.linalg.eig(z1)\n",
    "\n",
    "idx = a.argsort()[::-1]   \n",
    "a = a[idx]\n",
    "b = b[:,idx]\n",
    "\n",
    "ez1m = b[:,1]\n",
    "ez1p = b[:,0]\n",
    "\n",
    "a,b = np.linalg.eig(z2)\n",
    "\n",
    "idx = a.argsort()[::-1]   \n",
    "a = a[idx]\n",
    "b = b[:,idx]\n",
    "\n",
    "ez2m = b[:,1]\n",
    "ez2p = b[:,0]\n",
    "\n",
    "a,b = np.linalg.eig(z3)\n",
    "\n",
    "idx = a.argsort()[::-1]   \n",
    "a = a[idx]\n",
    "b = b[:,idx]\n",
    "\n",
    "ez3m = b[:,1]\n",
    "ez3p = b[:,0]\n",
    "\n",
    "a,b = np.linalg.eig(z4)\n",
    "\n",
    "idx = a.argsort()[::-1]   \n",
    "a = a[idx]\n",
    "b = b[:,idx]\n",
    "\n",
    "ez4m = b[:,1]\n",
    "ez4p = b[:,0]\n",
    "\n",
    "a,b = np.linalg.eig(z5)\n",
    "\n",
    "idx = a.argsort()[::-1]   \n",
    "a = a[idx]\n",
    "b = b[:,idx]\n",
    "\n",
    "ez5m = b[:,1]\n",
    "ez5p = b[:,0]\n",
    "\n",
    "a,b = np.linalg.eig(z6)\n",
    "\n",
    "idx = a.argsort()[::-1]   \n",
    "a = a[idx]\n",
    "b = b[:,idx]\n",
    "\n",
    "ez6m = b[:,1]\n",
    "ez6p = b[:,0]"
   ]
  },
  {
   "cell_type": "markdown",
   "id": "91582278-5837-4359-b05e-1ea6906a88aa",
   "metadata": {},
   "source": [
    "The following function computes $S_{xy}^{b}$, which is effectively the expectation value $\\langle\\Psi|\\hat{A}\\otimes |\\Phi_{b}\\rangle \\langle \\Phi_{b}| \\otimes \\hat{C}|\\Psi\\rangle$ given a particular outcome of Bob's measurement, $b$. The operator $|\\Phi_{b}\\rangle\\langle\\phi_{b}|$ projects out all components of the state orthogonal to $|\\Phi_{b}\\rangle$, corresponding to the condition that the expectation value is taken under the condition that Bob measures the state to be $|\\Phi_{b}\\rangle$."
   ]
  },
  {
   "cell_type": "code",
   "execution_count": 8,
   "id": "6ca12aa1-5e56-45b1-bdfd-518614240049",
   "metadata": {},
   "outputs": [],
   "source": [
    "def S(ψ,ap,am,ϕ,cp,cm):\n",
    "    Sab = np.abs(ψ @ np.kron(ap,np.kron(ϕ,cp)))**2 + np.abs(ψ @ np.kron(am,np.kron(ϕ,cm)))**2 \n",
    "    Sab = Sab - np.abs(ψ @ np.kron(am,np.kron(ϕ,cp)))**2 - np.abs(ψ @ np.kron(ap,np.kron(ϕ,cm)))**2\n",
    "\n",
    "    return Sab"
   ]
  },
  {
   "cell_type": "markdown",
   "id": "bf266e73-120d-48b5-94ad-34355e7396e5",
   "metadata": {},
   "source": [
    "We use this function to calculate the $S_{xy}^{b}$ for each $x$, $y$, and state $b$. For each of the twelve combinations $xz\\in\\left\\{11,12,21,22,13,14,33,34,25,26,35,36\\right\\}$ there is one case for each of the four values for $b$."
   ]
  },
  {
   "cell_type": "code",
   "execution_count": 9,
   "id": "6b27c4fa-bbc1-4ed2-8e6d-444a8ef09d97",
   "metadata": {},
   "outputs": [],
   "source": [
    "S00b11 = S(ψ,ex1p,ex1m,ϕ00,ez1p,ez1m)\n",
    "S01b11 = S(ψ,ex1p,ex1m,ϕ01,ez1p,ez1m)\n",
    "S10b11 = S(ψ,ex1p,ex1m,ϕ10,ez1p,ez1m)\n",
    "S11b11 = S(ψ,ex1p,ex1m,ϕ11,ez1p,ez1m)\n",
    "\n",
    "S00b12 = S(ψ,ex1p,ex1m,ϕ00,ez2p,ez2m)\n",
    "S01b12 = S(ψ,ex1p,ex1m,ϕ01,ez2p,ez2m)\n",
    "S10b12 = S(ψ,ex1p,ex1m,ϕ10,ez2p,ez2m)\n",
    "S11b12 = S(ψ,ex1p,ex1m,ϕ11,ez2p,ez2m)\n",
    "\n",
    "S00b21 = S(ψ,ex2p,ex2m,ϕ00,ez1p,ez1m)\n",
    "S01b21 = S(ψ,ex2p,ex2m,ϕ01,ez1p,ez1m)\n",
    "S10b21 = S(ψ,ex2p,ex2m,ϕ10,ez1p,ez1m)\n",
    "S11b21 = S(ψ,ex2p,ex2m,ϕ11,ez1p,ez1m)\n",
    "\n",
    "S00b22 = S(ψ,ex2p,ex2m,ϕ00,ez2p,ez2m)\n",
    "S01b22 = S(ψ,ex2p,ex2m,ϕ01,ez2p,ez2m)\n",
    "S10b22 = S(ψ,ex2p,ex2m,ϕ10,ez2p,ez2m)\n",
    "S11b22 = S(ψ,ex2p,ex2m,ϕ11,ez2p,ez2m)\n",
    "\n",
    "S00b13 = S(ψ,ex1p,ex1m,ϕ00,ez3p,ez3m)\n",
    "S01b13 = S(ψ,ex1p,ex1m,ϕ01,ez3p,ez3m)\n",
    "S10b13 = S(ψ,ex1p,ex1m,ϕ10,ez3p,ez3m)\n",
    "S11b13 = S(ψ,ex1p,ex1m,ϕ11,ez3p,ez3m)\n",
    "\n",
    "S00b14 = S(ψ,ex1p,ex1m,ϕ00,ez4p,ez4m)\n",
    "S01b14 = S(ψ,ex1p,ex1m,ϕ01,ez4p,ez4m)\n",
    "S10b14 = S(ψ,ex1p,ex1m,ϕ10,ez4p,ez4m)\n",
    "S11b14 = S(ψ,ex1p,ex1m,ϕ11,ez4p,ez4m)\n",
    "\n",
    "S00b33 = S(ψ,ex3p,ex3m,ϕ00,ez3p,ez3m)\n",
    "S01b33 = S(ψ,ex3p,ex3m,ϕ01,ez3p,ez3m)\n",
    "S10b33 = S(ψ,ex3p,ex3m,ϕ10,ez3p,ez3m)\n",
    "S11b33 = S(ψ,ex3p,ex3m,ϕ11,ez3p,ez3m)\n",
    "\n",
    "S00b34 = S(ψ,ex3p,ex3m,ϕ00,ez4p,ez4m)\n",
    "S01b34 = S(ψ,ex3p,ex3m,ϕ01,ez4p,ez4m)\n",
    "S10b34 = S(ψ,ex3p,ex3m,ϕ10,ez4p,ez4m)\n",
    "S11b34 = S(ψ,ex3p,ex3m,ϕ11,ez4p,ez4m)\n",
    "\n",
    "S00b25 = S(ψ,ex2p,ex2m,ϕ00,ez5p,ez5m)\n",
    "S01b25 = S(ψ,ex2p,ex2m,ϕ01,ez5p,ez5m)\n",
    "S10b25 = S(ψ,ex2p,ex2m,ϕ10,ez5p,ez5m)\n",
    "S11b25 = S(ψ,ex2p,ex2m,ϕ11,ez5p,ez5m)\n",
    "\n",
    "S00b26 = S(ψ,ex2p,ex2m,ϕ00,ez6p,ez6m)\n",
    "S01b26 = S(ψ,ex2p,ex2m,ϕ01,ez6p,ez6m)\n",
    "S10b26 = S(ψ,ex2p,ex2m,ϕ10,ez6p,ez6m)\n",
    "S11b26 = S(ψ,ex2p,ex2m,ϕ11,ez6p,ez6m)\n",
    "\n",
    "S00b35 = S(ψ,ex3p,ex3m,ϕ00,ez5p,ez5m)\n",
    "S01b35 = S(ψ,ex3p,ex3m,ϕ01,ez5p,ez5m)\n",
    "S10b35 = S(ψ,ex3p,ex3m,ϕ10,ez5p,ez5m)\n",
    "S11b35 = S(ψ,ex3p,ex3m,ϕ11,ez5p,ez5m)\n",
    "\n",
    "S00b36 = S(ψ,ex3p,ex3m,ϕ00,ez6p,ez6m)\n",
    "S01b36 = S(ψ,ex3p,ex3m,ϕ01,ez6p,ez6m)\n",
    "S10b36 = S(ψ,ex3p,ex3m,ϕ10,ez6p,ez6m)\n",
    "S11b36 = S(ψ,ex3p,ex3m,ϕ11,ez6p,ez6m)"
   ]
  },
  {
   "cell_type": "markdown",
   "id": "d7ef3b0e-303f-41b6-8e2f-560f19692cbf",
   "metadata": {},
   "source": [
    "Lastly, we compute the $\\mathcal{T}_{b}$ and sum over $b$ to obtain $\\Gamma$."
   ]
  },
  {
   "cell_type": "code",
   "execution_count": 11,
   "id": "97d3e32d-1cf9-4640-a632-6df81d14ce90",
   "metadata": {},
   "outputs": [
    {
     "name": "stdout",
     "output_type": "stream",
     "text": [
      "8.485281374238564\n"
     ]
    }
   ],
   "source": [
    "b1=0\n",
    "b2=0\n",
    "T00 = ((-1)**b2)*(S00b11+S00b12)+((-1)**b1)*(S00b21-S00b22)+((-1)**b2)*(S00b13+S00b14)\n",
    "T00 = T00 -((-1)**(b1+b2))*(S00b33-S00b34)+((-1)**b1)*(S00b25+S00b26)-((-1)**(b1+b2))*(S00b35-S00b36)\n",
    "\n",
    "b1=1\n",
    "b2=0\n",
    "T01 = ((-1)**b2)*(S01b11+S01b12)+((-1)**b1)*(S01b21-S01b22)+((-1)**b2)*(S01b13+S01b14)\n",
    "T01 = T01 -((-1)**(b1+b2))*(S01b33-S01b34)+((-1)**b1)*(S01b25+S01b26)-((-1)**(b1+b2))*(S01b35-S01b36)\n",
    "\n",
    "b1=0\n",
    "b2=1\n",
    "T10 = ((-1)**b2)*(S10b11+S10b12)+((-1)**b1)*(S10b21-S10b22)+((-1)**b2)*(S10b13+S10b14)\n",
    "T10 = T10 -((-1)**(b1+b2))*(S10b33-S10b34)+((-1)**b1)*(S10b25+S10b26)-((-1)**(b1+b2))*(S10b35-S10b36)\n",
    "\n",
    "b1=1\n",
    "b2=1\n",
    "T11 = ((-1)**b2)*(S11b11+S11b12)+((-1)**b1)*(S11b21-S11b22)+((-1)**b2)*(S11b13+S11b14)\n",
    "T11 = T11 -((-1)**(b1+b2))*(S11b33-S11b34)+((-1)**b1)*(S11b25+S11b26)-((-1)**(b1+b2))*(S11b35-S11b36)\n",
    "\n",
    "print(T00+T01+T10+T11)"
   ]
  },
  {
   "cell_type": "markdown",
   "id": "e70d7aa0-3a5f-463e-8f39-23aaeab60e84",
   "metadata": {},
   "source": [
    "This value of $\\Gamma$ can be compared to the theoretical value $6\\sqrt{2}$."
   ]
  },
  {
   "cell_type": "code",
   "execution_count": 12,
   "id": "e3840bde-3b87-4373-85ac-a1e3b0ec3c3e",
   "metadata": {},
   "outputs": [
    {
     "data": {
      "text/plain": [
       "8.485281374238571"
      ]
     },
     "execution_count": 12,
     "metadata": {},
     "output_type": "execute_result"
    }
   ],
   "source": [
    "6*np.sqrt(2)"
   ]
  },
  {
   "cell_type": "markdown",
   "id": "6c678b12-7ad6-462f-b7a9-23b7d2df9fdb",
   "metadata": {},
   "source": [
    "## Theoretical calculation using real representation<a id='rqm1'></a>"
   ]
  },
  {
   "cell_type": "markdown",
   "id": "238d07bc-ac4c-4ca8-a3f5-f728b0aa4821",
   "metadata": {},
   "source": [
    "One possible real representation which respects the usual tensor-product structure of multiparticle states is obtained by using a real, four-component vector to represent each qubit,\n",
    "$$\\left(\\begin{array}{c} \\alpha\\\\ \\beta\\end{array}\\right)\\rightarrow \\left(\\begin{array}\\mbox{Re}[\\alpha]\\\\ \\mbox{Im}[\\alpha]\\\\ \\mbox{Re}[\\beta]\\\\ \\mbox{Im}[\\beta]\\end{array}\\right).$$\n",
    "\n",
    "One would like to generalize the representations,\n",
    "\n",
    "$$|0\\rangle \\rightarrow \\left(\\begin{array}{c} 1 \\\\ 0 \\\\ 0 \\\\ 0\\end{array}\\right),\\;\\;\\;\\;\\;\\;\\;\\; |1\\rangle \\rightarrow \\left(\\begin{array}{c} 0 \\\\ 0 \\\\ 1 \\\\ 0\\end{array}\\right).$$\n",
    "\n",
    "But now there are two <i>additional</i> basis states. What to make of these?\n",
    "\n",
    "In the complex representation, the overall phase $e^{i\\phi}$ is not measurable. That is, $i|0\\rangle$ is indistinguishable from $|0\\rangle$. This redundancy takes a slightly different form in the real representation where these additional basis states correspond to $i|0\\rangle$, $i|1\\rangle$. Let us define\n",
    "\n",
    "$$|\\overline{0}\\rangle \\rightarrow \\left(\\begin{array}{c} 0 \\\\ 1 \\\\ 0 \\\\ 0\\end{array}\\right),\\;\\;\\;\\;\\;\\;\\;\\; |\\overline{1}\\rangle \\rightarrow \\left(\\begin{array}{c} 0 \\\\ 0 \\\\ 0 \\\\ 1\\end{array}\\right).$$\n",
    "\n",
    "The usual phase invariance $e^{i\\phi}|0\\rangle$ can be captured in the real representation as $\\cos\\phi |0\\rangle + \\sin\\phi |\\overline{0}\\rangle$ (and similarly, $e^{i\\theta}|1\\rangle\\rightarrow \\cos\\theta|1\\rangle + \\sin\\theta|\\overline{1}\\rangle$).\n",
    "\n",
    "In this real basis, the spin operators take the representations\n",
    "\n",
    "$$\\hat{\\sigma}^{x}_{r} = \\left(\\begin{array}{cccc} 0 & 0 & 0 & 1 \\\\0 & 0 & 1 & 0\\\\ 0 & 1 & 0 & 0 \\\\ 1 & 0 & 0 & 0\\end{array}\\right),\\;\\;\\;\\;\\;\\;\n",
    "\\hat{\\sigma}^{y}_{r} = \\left(\\begin{array}{cccc} 0 & 0 & 0 & 1 \\\\ 0 & 0 & -1 & 0\\\\ 0 & -1 & 0 & 0 \\\\ 1 & 0 & 0 & 0\\end{array}\\right),\\;\\;\\;\\;\\;\\;\n",
    "\\hat{\\sigma}^{z}_{r} = \\left(\\begin{array}{cccc} 1 & 0 & 0 & 0\\\\ 0 & 1 & 0 & 0 \\\\ 0 & 0 & -1 & 0 \\\\ 0 & 0 & 0 & -1\\end{array}\\right).$$\n",
    "\n",
    "For reference, the real matrix representation of the imaginary unit is\n",
    "\n",
    "$$i_{r}  = \\left(\\begin{array}{cccc} 0 & -1 & 0 & 0 \\\\ 1 & 0 & 0 & 0\\\\ 0 & 0 & 0 & -1 \\\\ 0 & 0 & 1 & 0\\end{array}\\right)$$"
   ]
  },
  {
   "cell_type": "code",
   "execution_count": 13,
   "id": "91dd3da6-593a-4bae-8d1a-539819d638a2",
   "metadata": {},
   "outputs": [],
   "source": [
    "up = np.array([1,0,0,0])\n",
    "do = np.array([0,0,1,0])\n",
    "up1 = np.array([0,1,0,0])\n",
    "do1 = np.array([0,0,0,1])\n",
    "\n",
    "sx = np.array([[0,0,1,0],[0,0,0,1],[1,0,0,0],[0,1,0,0]])\n",
    "sy = np.array([[0,0,0,1],[0,0,-1,0],[0,-1,0,0],[1,0,0,0]])\n",
    "sz = np.array([[1,0,0,0],[0,1,0,0],[0,0,-1,0],[0,0,0,-1]])\n",
    "\n",
    "ir = np.array([[0,-1,0,0],[1,0,0,0],[0,0,0,-1],[0,0,1,0]])"
   ]
  },
  {
   "cell_type": "markdown",
   "id": "d69fe8b8-c297-47e1-87af-184dea560863",
   "metadata": {},
   "source": [
    "As in the complex representation, Alice uses operators\n",
    "\n",
    "$$\\hat{A}_{1} = \\hat{\\sigma}^{z},\\;\\;\\;\\;\\;\\; \\hat{A}_{2} = \\hat{\\sigma}^{x},\\;\\;\\;\\;\\;\\; \\hat{A}_{3} = \\hat{\\sigma}^{y},$$\n",
    "\n",
    "Bob uses\n",
    "\n",
    "$$\\hat{C}_{1} = \\frac{\\hat{\\sigma}^{z}+\\hat{\\sigma}^{x}}{\\sqrt{2}},\\;\\;\\;\\;\\;\\; \\hat{C}_{2} = \\frac{\\hat{\\sigma}^{z}-\\hat{\\sigma}^{x}}{\\sqrt{2}},\\;\\;\\;\\;\\;\\; \\hat{C}_{3} = \\frac{\\hat{\\sigma}^{z}+\\hat{\\sigma}^{y}}{\\sqrt{2}},$$\n",
    "\n",
    "$$\\hat{C}_{4} = \\frac{\\hat{\\sigma}^{z}-\\hat{\\sigma}^{y}}{\\sqrt{2}},\\;\\;\\;\\;\\;\\; \\hat{C}_{5} = \\frac{\\hat{\\sigma}^{x}+\\hat{\\sigma}^{y}}{\\sqrt{2}},\\;\\;\\;\\;\\;\\; \\hat{C}_{6} = \\frac{\\hat{\\sigma}^{x}-\\hat{\\sigma}^{y}}{\\sqrt{2}},$$\n",
    "\n",
    "The operator definitions are unchanged from the complex case but now use the real representations of the spin operators."
   ]
  },
  {
   "cell_type": "code",
   "execution_count": 14,
   "id": "66dbaa5f-1ff5-4ac7-808c-3b55ad20c673",
   "metadata": {},
   "outputs": [],
   "source": [
    "x1 = sz\n",
    "x2 = sx\n",
    "x3 = sy\n",
    "\n",
    "z1 = (1/np.sqrt(2))*(sz+sx)\n",
    "z2 = (1/np.sqrt(2))*(sz-sx)\n",
    "z3 = (1/np.sqrt(2))*(sz+sy)\n",
    "z4 = (1/np.sqrt(2))*(sz-sy)\n",
    "z5 = (1/np.sqrt(2))*(sx+sy)\n",
    "z6 = (1/np.sqrt(2))*(sx-sy)"
   ]
  },
  {
   "cell_type": "markdown",
   "id": "0bee7181-a608-4cfe-b0b3-4364e45c97d0",
   "metadata": {},
   "source": [
    "Next we need to represent the entangled Bell states indexed by Bob's two BSM measurement results 00, 01, 10, 11 as\n",
    "\n",
    "$$|\\Phi_{00}\\rangle = \\frac{1}{\\sqrt{2}}\\left(|00\\rangle + |11\\rangle\\right)$$\n",
    "$$|\\Phi_{01}\\rangle = \\frac{1}{\\sqrt{2}}\\left(|00\\rangle - |11\\rangle\\right)$$\n",
    "$$|\\Phi_{10}\\rangle = \\frac{1}{\\sqrt{2}}\\left(|01\\rangle + |10\\rangle\\right)$$\n",
    "$$|\\Phi_{11}\\rangle = \\frac{1}{\\sqrt{2}}\\left(|01\\rangle - |10\\rangle\\right)$$\n",
    "\n",
    "The new basis being $|0\\rangle$, $1\\rangle$, $|\\overline{0}\\rangle$, $|\\overline{1}\\rangle$ adds a bit of complexity. Formally, the two-particle basis becomes (take a deep breath) $|00\\rangle$, $|0\\overline{0}\\rangle$, $|01\\rangle$, $|\\overline{0}\\overline{1}\\rangle$, $|\\overline{0}0\\rangle$, $|\\overline{0}\\overline{0}\\rangle$, $|\\overline{0}1\\rangle$, $|1\\overline{1}\\rangle$, $|10\\rangle$, $|1\\overline{0}\\rangle$, $|11\\rangle$, $|1\\overline{1}\\rangle$, $|\\overline{1}0\\rangle$, $|\\overline{1}\\overline{0}\\rangle$, $|\\overline{1}1\\rangle$, $|\\overline{1}\\overline{1}\\rangle$.\n",
    "\n",
    "The phase invariance results in four copies of each state. For example\n",
    "\n",
    "$$|\\Phi_{00}^{a}\\rangle =\\frac{1}{\\sqrt{2}}\\left(|00\\rangle + |11\\rangle\\right)$$ \n",
    "$$|\\Phi_{00}^{b}\\rangle =\\frac{1}{\\sqrt{2}}\\left(|\\overline{0}0\\rangle + |\\overline{1}1\\rangle\\right)$$ \n",
    "$$|\\Phi_{00}^{c}\\rangle =\\frac{1}{\\sqrt{2}}\\left(|0\\overline{0}\\rangle + |1\\overline{1}\\rangle\\right)$$ \n",
    "$$|\\Phi_{00}^{d}\\rangle =\\frac{1}{\\sqrt{2}}\\left(|\\overline{0}\\overline{0}\\rangle + |\\overline{1}\\overline{1}\\rangle\\right)$$\n",
    "\n",
    "All four states are mutually orthogonal, and similar definitions exist for the other Bell states."
   ]
  },
  {
   "cell_type": "code",
   "execution_count": 15,
   "id": "43d95a5d-40b8-4f5e-8df1-4eb0669ca6f2",
   "metadata": {},
   "outputs": [],
   "source": [
    "ϕ00a = (1/np.sqrt(2))*(np.kron(up,up)+np.kron(do,do))\n",
    "ϕ00b = (1/np.sqrt(2))*(np.kron(up1,up)+np.kron(do1,do))\n",
    "ϕ00c = (1/np.sqrt(2))*(np.kron(up,up1)+np.kron(do,do1))\n",
    "ϕ00d = (1/np.sqrt(2))*(np.kron(up1,up1)+np.kron(do1,do1))\n",
    "\n",
    "ϕ01a = (1/np.sqrt(2))*(np.kron(up,up)-np.kron(do,do))\n",
    "ϕ01b = (1/np.sqrt(2))*(np.kron(up1,up)-np.kron(do1,do))\n",
    "ϕ01c = (1/np.sqrt(2))*(np.kron(up,up1)-np.kron(do,do1))\n",
    "ϕ01d = (1/np.sqrt(2))*(np.kron(up1,up1)-np.kron(do1,do1))\n",
    "\n",
    "ϕ10a = (1/np.sqrt(2))*(np.kron(up,do)+np.kron(do,up))\n",
    "ϕ10b = (1/np.sqrt(2))*(np.kron(up1,do)+np.kron(do1,up))\n",
    "ϕ10c = (1/np.sqrt(2))*(np.kron(up,do1)+np.kron(do,up1))\n",
    "ϕ10d = (1/np.sqrt(2))*(np.kron(up1,do1)+np.kron(do1,up1))\n",
    "\n",
    "ϕ11a = (1/np.sqrt(2))*(np.kron(up,do)-np.kron(do,up))\n",
    "ϕ11b = (1/np.sqrt(2))*(np.kron(up1,do)-np.kron(do1,up))\n",
    "ϕ11c = (1/np.sqrt(2))*(np.kron(up,do1)-np.kron(do,up1))\n",
    "ϕ11d = (1/np.sqrt(2))*(np.kron(up1,do1)-np.kron(do1,up1))\n"
   ]
  },
  {
   "cell_type": "markdown",
   "id": "7288ee29-c88b-4883-9fcd-9a29bc4ef24a",
   "metadata": {},
   "source": [
    "For convenience later, each set of \"redundant\" states is packaged into a matrix with each row corresponding to one state."
   ]
  },
  {
   "cell_type": "code",
   "execution_count": 16,
   "id": "650e2528-e9aa-4019-a040-a44e418d54ea",
   "metadata": {},
   "outputs": [],
   "source": [
    "ϕ00 = np.vstack((ϕ00a,ϕ00b,ϕ00c,ϕ00d))\n",
    "ϕ01 = np.vstack((ϕ01a,ϕ01b,ϕ01c,ϕ01d))\n",
    "ϕ10 = np.vstack((ϕ10a,ϕ10b,ϕ10c,ϕ10d))\n",
    "ϕ11 = np.vstack((ϕ11a,ϕ11b,ϕ11c,ϕ11d))"
   ]
  },
  {
   "cell_type": "markdown",
   "id": "b0873fc0-046c-436f-b643-ecfd02771fa7",
   "metadata": {},
   "source": [
    "The state $|\\Psi\\rangle = |\\Phi_{00}\\rangle\\otimes |\\Phi_{00}\\rangle$ is defined as before using $|\\Phi_{00}{a}\\rangle$. The user is encouraged to try other states (and combinations of the Bell states). "
   ]
  },
  {
   "cell_type": "code",
   "execution_count": 17,
   "id": "86f1116f-6acf-43b2-836b-c7a1573b0ed8",
   "metadata": {},
   "outputs": [],
   "source": [
    "ψ = np.kron(ϕ00a,ϕ00a)\n",
    "\n",
    "#ψ = (np.kron(ϕ00a,ϕ00a)+kron(ϕ00d,ϕ00d))/sqrt(2)\n",
    "#ψ = (np.kron((ϕ00a+ϕ00b)/np.sqrt(2),(ϕ00c+ϕ00d)/np.sqrt(2)))"
   ]
  },
  {
   "cell_type": "markdown",
   "id": "04369eff-cf6f-4407-85fd-7ce74f620cee",
   "metadata": {},
   "source": [
    "The experiment, as before, consists of Alice and Charlie performing measurements on their qubits using their operators (labeled $x$ and $z$, respectively), obtaining values $a,c=\\pm1$, respectively. Bob takes one qubit from each pair and performs a Bell state measurement on the pair, obtaining $b\\equiv b_{2}b_{1} \\in\\left\\{00,01,10,11\\right\\}$. In each instance, Alice and Bob randomly select operators from their respective sets. After many repetitions, they reconstruct the probability distribution $P(abc|xz)$. From this, they compute the following correlation or \"score\"\n",
    "\n",
    "$$\\Gamma = \\sum_{b}\\mathcal{T}_{b},$$\n",
    "\n",
    "where\n",
    "\n",
    "$$\\mathcal{T}_{b} = (-1)^{b_{2}}(S_{11}^{b}+S_{12}^{b})+(-1)^{b_{1}}(S_{21}^{b}-S_{22}^{b})+(-1)^{b_{2}}(S_{13}^{b}+S_{14}^{b})-(-1)^{b_{1}+b_{2}}(S_{33}^{b}-S_{34}^{b})+(-1)^{b_{1}}(S_{25}^{b}+S_{26}^{b})-(-1)^{b_{1}+b_{2}}(S_{35}^{b}-S_{36}^{b}),$$\n",
    "\n",
    "$$S_{xz}^{b} = \\sum_{a,c=\\pm1}P(abc|xz)ac,$$\n",
    "\n",
    "In order to compute $P(abc|xz)$, we imagine eigenvectors $|a\\rangle$ and $|c\\rangle$ corresponding to measurments $a$ and $c$, respectively. Given Bob's measurement $b$ corresponding to the Bell state $|\\Phi_{b}\\rangle$, the probability is given by the Born rule\n",
    "\n",
    "$$P(abc|xz) = \\left|\\left[\\langle a| \\otimes \\langle \\Phi_{b} | \\otimes \\langle c |\\right] |\\Psi\\rangle \\right|^{2}$$\n",
    "\n",
    "The remaining work is to organize the eigenvalues and eigenvectors for each of Alice's and Charlie's operators in order to compute the probabilities. \n",
    "\n",
    "Below, we use `numpy` to compute eigenvalues and corresponding eigenvectors for each operator. The sorting operation ensures that the positive eigenvalue is listed before the negative eigenvalue.\n",
    "\n",
    "In the real representation, there is also a redundancy of operator eigenvalues (e.g., two positive eigenvalues and two negative eigenvalues). We need to keep track of all eigenvectors to properly compute measurement probabilities."
   ]
  },
  {
   "cell_type": "code",
   "execution_count": 18,
   "id": "6198ac61-cfc2-4805-ae64-067feb16af6d",
   "metadata": {},
   "outputs": [],
   "source": [
    "a,b = np.linalg.eigh(x1)\n",
    "\n",
    "idx = a.argsort()[::-1]   \n",
    "a = a[idx]\n",
    "b = b[:,idx]\n",
    "\n",
    "ex1m = b[:,2]\n",
    "ex1p = b[:,0]\n",
    "ex1m1 = b[:,3]\n",
    "ex1p1 = b[:,1]\n",
    "\n",
    "ex1_p = np.vstack((ex1p,ex1p1))\n",
    "ex1_m = np.vstack((ex1m,ex1m1))\n",
    "\n",
    "a,b = np.linalg.eigh(x2)\n",
    "\n",
    "idx = a.argsort()[::-1]   \n",
    "a = a[idx]\n",
    "b = b[:,idx]\n",
    "\n",
    "ex2m = b[:,2]\n",
    "ex2p = b[:,0]\n",
    "ex2m1 = b[:,3]\n",
    "ex2p1 = b[:,1]\n",
    "\n",
    "ex2_p = np.vstack((ex2p,ex2p1))\n",
    "ex2_m = np.vstack((ex2m,ex2m1))\n",
    "\n",
    "a,b = np.linalg.eigh(x3)\n",
    "\n",
    "idx = a.argsort()[::-1]   \n",
    "a = a[idx]\n",
    "b = b[:,idx]\n",
    "\n",
    "ex3m = b[:,2]\n",
    "ex3p = b[:,0]\n",
    "ex3m1 = b[:,3]\n",
    "ex3p1 = b[:,1]\n",
    "\n",
    "ex3_p = np.vstack((ex3p,ex3p1))\n",
    "ex3_m = np.vstack((ex3m,ex3m1))\n",
    "\n",
    "a,b = np.linalg.eigh(z1)\n",
    "\n",
    "idx = a.argsort()[::-1]   \n",
    "a = a[idx]\n",
    "b = b[:,idx]\n",
    "\n",
    "ez1m = b[:,2]\n",
    "ez1p = b[:,0]\n",
    "ez1m1 = b[:,3]\n",
    "ez1p1 = b[:,1]\n",
    "\n",
    "ez1_p = np.vstack((ez1p,ez1p1))\n",
    "ez1_m = np.vstack((ez1m,ez1m1))\n",
    "\n",
    "a,b = np.linalg.eigh(z2)\n",
    "\n",
    "idx = a.argsort()[::-1]   \n",
    "a = a[idx]\n",
    "b = b[:,idx]\n",
    "\n",
    "ez2m = b[:,2]\n",
    "ez2p = b[:,0]\n",
    "ez2m1 = b[:,3]\n",
    "ez2p1 = b[:,1]\n",
    "\n",
    "ez2_p = np.vstack((ez2p,ez2p1))\n",
    "ez2_m = np.vstack((ez2m,ez2m1))\n",
    "\n",
    "a,b = np.linalg.eigh(z3)\n",
    "\n",
    "idx = a.argsort()[::-1]   \n",
    "a = a[idx]\n",
    "b = b[:,idx]\n",
    "\n",
    "ez3m = b[:,2]\n",
    "ez3p = b[:,0]\n",
    "ez3m1 = b[:,3]\n",
    "ez3p1 = b[:,1]\n",
    "\n",
    "ez3_p = np.vstack((ez3p,ez3p1))\n",
    "ez3_m = np.vstack((ez3m,ez3m1))\n",
    "\n",
    "a,b = np.linalg.eigh(z4)\n",
    "\n",
    "idx = a.argsort()[::-1]   \n",
    "a = a[idx]\n",
    "b = b[:,idx]\n",
    "\n",
    "ez4m = b[:,2]\n",
    "ez4p = b[:,0]\n",
    "ez4m1 = b[:,3]\n",
    "ez4p1 = b[:,1]\n",
    "\n",
    "ez4_p = np.vstack((ez4p,ez4p1))\n",
    "ez4_m = np.vstack((ez4m,ez4m1))\n",
    "\n",
    "a,b = np.linalg.eigh(z5)\n",
    "\n",
    "idx = a.argsort()[::-1]   \n",
    "a = a[idx]\n",
    "b = b[:,idx]\n",
    "\n",
    "ez5m = b[:,2]\n",
    "ez5p = b[:,0]\n",
    "ez5m1 = b[:,3]\n",
    "ez5p1 = b[:,1]\n",
    "\n",
    "ez5_p = np.vstack((ez5p,ez5p1))\n",
    "ez5_m = np.vstack((ez5m,ez5m1))\n",
    "\n",
    "a,b = np.linalg.eigh(z6)\n",
    "\n",
    "idx = a.argsort()[::-1]   \n",
    "a = a[idx]\n",
    "b = b[:,idx]\n",
    "\n",
    "ez6m = b[:,2]\n",
    "ez6p = b[:,0]\n",
    "ez6m1 = b[:,3]\n",
    "ez6p1 = b[:,1]\n",
    "\n",
    "ez6_p = np.vstack((ez6p,ez6p1))\n",
    "ez6_m = np.vstack((ez6m,ez6m1))"
   ]
  },
  {
   "cell_type": "markdown",
   "id": "352fa3e4-f9ba-4e02-9790-e5ac0d941dbb",
   "metadata": {},
   "source": [
    "For a fixed measurement $(a,c)$, the following function takes a physically redundant set of eigenvectors $\\left\\{|a\\rangle\\right\\}$ and a similar set of eigenvectors $\\left\\{|b\\rangle\\right\\}$, the set of <i>four</i> physically redundant Bell states $|\\Phi_{b}^{a,b,c,d}\\rangle$, and the state $|\\Psi\\rangle$. Summing over the physical redundancies, we obtain the probability of obtaining $a,c$ under the assumption that Bob measures $|\\Phi_{b}\\rangle$. "
   ]
  },
  {
   "cell_type": "code",
   "execution_count": 19,
   "id": "c174c0df-fee5-4e54-9d3f-f83473ec5fcf",
   "metadata": {},
   "outputs": [],
   "source": [
    "def probtot(ψ,a,ϕ,c):\n",
    "    pt = 0\n",
    "\n",
    "    for i in range(0,2):\n",
    "        for j in range(0,4):\n",
    "            for k in range(0,2):\n",
    "                pt = pt + abs(ψ @ np.kron(a[i,:],np.kron(ϕ[j,:],c[k,:])))**2\n",
    "\n",
    "    return pt"
   ]
  },
  {
   "cell_type": "markdown",
   "id": "a0e996b2-5d70-48e0-b077-1f94f78683d2",
   "metadata": {},
   "source": [
    "The following function sums over the configurations of $a,c$ and uses the function above to return the conditional expectation value $\\langle\\Psi|\\hat{A}\\otimes |\\Phi_{b}\\rangle \\langle \\Phi_{b}| \\otimes \\hat{C}|\\Psi\\rangle$ corresponding to $S_{xy}^{b}$."
   ]
  },
  {
   "cell_type": "code",
   "execution_count": 20,
   "id": "24e7dba7-785c-4114-bfbe-7d91ff4fca4a",
   "metadata": {},
   "outputs": [],
   "source": [
    "def Sr(ψ,ap,am,ϕ,cp,cm):\n",
    "    Sab = probtot(ψ,ap,ϕ,cp) + probtot(ψ,am,ϕ,cm) - probtot(ψ,ap,ϕ,cm) - probtot(ψ,am,ϕ,cp)\n",
    "    return Sab"
   ]
  },
  {
   "cell_type": "markdown",
   "id": "300cad36-75d9-4a74-ba93-b039da3aa24c",
   "metadata": {},
   "source": [
    "The following cell computes all $4\\times 12=48$ cases of $S_{xy}^{b}$. The remainder of the computation of $\\Gamma$ is identical in structure to the complex-valued case."
   ]
  },
  {
   "cell_type": "code",
   "execution_count": 21,
   "id": "33fabb51-f0c1-46a3-9f32-fe28cbcabd90",
   "metadata": {},
   "outputs": [],
   "source": [
    "S00b11 = Sr(ψ,ex1_p,ex1_m,ϕ00,ez1_p,ez1_m)\n",
    "S01b11 = Sr(ψ,ex1_p,ex1_m,ϕ01,ez1_p,ez1_m)\n",
    "S10b11 = Sr(ψ,ex1_p,ex1_m,ϕ10,ez1_p,ez1_m)\n",
    "S11b11 = Sr(ψ,ex1_p,ex1_m,ϕ11,ez1_p,ez1_m)\n",
    "\n",
    "S00b12 = Sr(ψ,ex1_p,ex1_m,ϕ00,ez2_p,ez2_m)\n",
    "S01b12 = Sr(ψ,ex1_p,ex1_m,ϕ01,ez2_p,ez2_m)\n",
    "S10b12 = Sr(ψ,ex1_p,ex1_m,ϕ10,ez2_p,ez2_m)\n",
    "S11b12 = Sr(ψ,ex1_p,ex1_m,ϕ11,ez2_p,ez2_m)\n",
    "\n",
    "S00b21 = Sr(ψ,ex2_p,ex2_m,ϕ00,ez1_p,ez1_m)\n",
    "S01b21 = Sr(ψ,ex2_p,ex2_m,ϕ01,ez1_p,ez1_m)\n",
    "S10b21 = Sr(ψ,ex2_p,ex2_m,ϕ10,ez1_p,ez1_m)\n",
    "S11b21 = Sr(ψ,ex2_p,ex2_m,ϕ11,ez1_p,ez1_m)\n",
    "\n",
    "S00b22 = Sr(ψ,ex2_p,ex2_m,ϕ00,ez2_p,ez2_m)\n",
    "S01b22 = Sr(ψ,ex2_p,ex2_m,ϕ01,ez2_p,ez2_m)\n",
    "S10b22 = Sr(ψ,ex2_p,ex2_m,ϕ10,ez2_p,ez2_m)\n",
    "S11b22 = Sr(ψ,ex2_p,ex2_m,ϕ11,ez2_p,ez2_m)\n",
    "\n",
    "S00b13 = Sr(ψ,ex1_p,ex1_m,ϕ00,ez3_p,ez3_m)\n",
    "S01b13 = Sr(ψ,ex1_p,ex1_m,ϕ01,ez3_p,ez3_m)\n",
    "S10b13 = Sr(ψ,ex1_p,ex1_m,ϕ10,ez3_p,ez3_m)\n",
    "S11b13 = Sr(ψ,ex1_p,ex1_m,ϕ11,ez3_p,ez3_m)\n",
    "\n",
    "S00b14 = Sr(ψ,ex1_p,ex1_m,ϕ00,ez4_p,ez4_m)\n",
    "S01b14 = Sr(ψ,ex1_p,ex1_m,ϕ01,ez4_p,ez4_m)\n",
    "S10b14 = Sr(ψ,ex1_p,ex1_m,ϕ10,ez4_p,ez4_m)\n",
    "S11b14 = Sr(ψ,ex1_p,ex1_m,ϕ11,ez4_p,ez4_m)\n",
    "\n",
    "S00b33 = Sr(ψ,ex3_p,ex3_m,ϕ00,ez3_p,ez3_m)\n",
    "S01b33 = Sr(ψ,ex3_p,ex3_m,ϕ01,ez3_p,ez3_m)\n",
    "S10b33 = Sr(ψ,ex3_p,ex3_m,ϕ10,ez3_p,ez3_m)\n",
    "S11b33 = Sr(ψ,ex3_p,ex3_m,ϕ11,ez3_p,ez3_m)\n",
    "\n",
    "S00b34 = Sr(ψ,ex3_p,ex3_m,ϕ00,ez4_p,ez4_m)\n",
    "S01b34 = Sr(ψ,ex3_p,ex3_m,ϕ01,ez4_p,ez4_m)\n",
    "S10b34 = Sr(ψ,ex3_p,ex3_m,ϕ10,ez4_p,ez4_m)\n",
    "S11b34 = Sr(ψ,ex3_p,ex3_m,ϕ11,ez4_p,ez4_m)\n",
    "\n",
    "S00b25 = Sr(ψ,ex2_p,ex2_m,ϕ00,ez5_p,ez5_m)\n",
    "S01b25 = Sr(ψ,ex2_p,ex2_m,ϕ01,ez5_p,ez5_m)\n",
    "S10b25 = Sr(ψ,ex2_p,ex2_m,ϕ10,ez5_p,ez5_m)\n",
    "S11b25 = Sr(ψ,ex2_p,ex2_m,ϕ11,ez5_p,ez5_m)\n",
    "\n",
    "S00b26 = Sr(ψ,ex2_p,ex2_m,ϕ00,ez6_p,ez6_m)\n",
    "S01b26 = Sr(ψ,ex2_p,ex2_m,ϕ01,ez6_p,ez6_m)\n",
    "S10b26 = Sr(ψ,ex2_p,ex2_m,ϕ10,ez6_p,ez6_m)\n",
    "S11b26 = Sr(ψ,ex2_p,ex2_m,ϕ11,ez6_p,ez6_m)\n",
    "\n",
    "S00b35 = Sr(ψ,ex3_p,ex3_m,ϕ00,ez5_p,ez5_m)\n",
    "S01b35 = Sr(ψ,ex3_p,ex3_m,ϕ01,ez5_p,ez5_m)\n",
    "S10b35 = Sr(ψ,ex3_p,ex3_m,ϕ10,ez5_p,ez5_m)\n",
    "S11b35 = Sr(ψ,ex3_p,ex3_m,ϕ11,ez5_p,ez5_m)\n",
    "\n",
    "S00b36 = Sr(ψ,ex3_p,ex3_m,ϕ00,ez6_p,ez6_m)\n",
    "S01b36 = Sr(ψ,ex3_p,ex3_m,ϕ01,ez6_p,ez6_m)\n",
    "S10b36 = Sr(ψ,ex3_p,ex3_m,ϕ10,ez6_p,ez6_m)\n",
    "S11b36 = Sr(ψ,ex3_p,ex3_m,ϕ11,ez6_p,ez6_m)"
   ]
  },
  {
   "cell_type": "markdown",
   "id": "e80b7183-b1ec-4ce4-8f1a-34199d57d180",
   "metadata": {},
   "source": [
    "Given $S_{xy}^{b}$, the next step is to compute\n",
    "$$\\mathcal{T}_{b} = (-1)^{b_{2}}(S_{11}^{b}+S_{12}^{b})+(-1)^{b_{1}}(S_{21}^{b}-S_{22}^{b})+(-1)^{b_{2}}(S_{13}^{b}+S_{14}^{b})-(-1)^{b_{1}+b_{2}}(S_{33}^{b}-S_{34}^{b})+(-1)^{b_{1}}(S_{25}^{b}+S_{26}^{b})-(-1)^{b_{1}+b_{2}}(S_{35}^{b}-S_{36}^{b}).$$\n",
    "\n",
    "The score is then given by \n",
    "\n",
    "$$\\Gamma = \\sum_{b}\\mathcal{T}_{b}$$"
   ]
  },
  {
   "cell_type": "code",
   "execution_count": 22,
   "id": "854caa02-4444-42ce-a472-1bbf867165f3",
   "metadata": {},
   "outputs": [
    {
     "name": "stdout",
     "output_type": "stream",
     "text": [
      "5.656854249492376\n"
     ]
    }
   ],
   "source": [
    "b1=0\n",
    "b2=0\n",
    "T00 = ((-1)**b2)*(S00b11+S00b12)+((-1)**b1)*(S00b21-S00b22)+((-1)**b2)*(S00b13+S00b14)\n",
    "T00 = T00 -((-1)**(b1+b2))*(S00b33-S00b34)+((-1)**b1)*(S00b25+S00b26)-((-1)**(b1+b2))*(S00b35-S00b36)\n",
    "\n",
    "b1=1\n",
    "b2=0\n",
    "T01 = ((-1)**b2)*(S01b11+S01b12)+((-1)**b1)*(S01b21-S01b22)+((-1)**b2)*(S01b13+S01b14)\n",
    "T01 = T01 -((-1)**(b1+b2))*(S01b33-S01b34)+((-1)**b1)*(S01b25+S01b26)-((-1)**(b1+b2))*(S01b35-S01b36)\n",
    "\n",
    "b1=0\n",
    "b2=1\n",
    "T10 = ((-1)**b2)*(S10b11+S10b12)+((-1)**b1)*(S10b21-S10b22)+((-1)**b2)*(S10b13+S10b14)\n",
    "T10 = T10 -((-1)**(b1+b2))*(S10b33-S10b34)+((-1)**b1)*(S10b25+S10b26)-((-1)**(b1+b2))*(S10b35-S10b36)\n",
    "\n",
    "b1=1\n",
    "b2=1\n",
    "T11 = ((-1)**b2)*(S11b11+S11b12)+((-1)**b1)*(S11b21-S11b22)+((-1)**b2)*(S11b13+S11b14)\n",
    "T11 = T11 -((-1)**(b1+b2))*(S11b33-S11b34)+((-1)**b1)*(S11b25+S11b26)-((-1)**(b1+b2))*(S11b35-S11b36)\n",
    "\n",
    "print(T00+T01+T10+T11)"
   ]
  },
  {
   "cell_type": "markdown",
   "id": "83eb3585-c7b0-47c7-b35f-2d678dd47085",
   "metadata": {},
   "source": [
    "The result (for $|\\Psi\\rangle = |\\Phi_{00}^{a}\\rangle\\otimes |\\Phi_{00}^{a}\\rangle$) corresponds to $4\\sqrt{2}$."
   ]
  },
  {
   "cell_type": "code",
   "execution_count": 23,
   "id": "e61073ce-6e41-40b2-9f26-3e9904d45a4f",
   "metadata": {},
   "outputs": [
    {
     "data": {
      "text/plain": [
       "5.656854249492381"
      ]
     },
     "execution_count": 23,
     "metadata": {},
     "output_type": "execute_result"
    }
   ],
   "source": [
    "4*np.sqrt(2)"
   ]
  },
  {
   "cell_type": "markdown",
   "id": "0a42b031-c94d-4155-9690-9f871f6b03d7",
   "metadata": {},
   "source": [
    "# Expectation value formulation\n",
    "\n",
    "## Complex-valued QM<a id='cqm2'></a>"
   ]
  },
  {
   "cell_type": "markdown",
   "id": "00f795f6-bd26-44e6-9ce4-bc9f3645efe4",
   "metadata": {},
   "source": [
    "As shown in the main text, the computation of $\\Gamma$ can be reframed as an expectation value\n",
    "\n",
    "$$\\Gamma = \\langle \\Psi' | \\mathcal{O} |\\Psi'\\rangle,$$\n",
    "\n",
    "where $|\\Psi'\\rangle = \\hat{H}_{1}\\mbox{CNOT}_{1,2}|\\Psi\\rangle$ and\n",
    "\n",
    "$$\\mathcal{O} = 2\\sqrt{2}\\left[\\hat{\\sigma}^{x}\\otimes\\hat{\\sigma}^{z}\\otimes\\hat{I}\\otimes\\hat{\\sigma}^{x} - \\hat{\\sigma}^{y}\\otimes\\hat{\\sigma}^{z}\\otimes\\hat{\\sigma}^{z}\\otimes\\hat{\\sigma}^{y} + \\hat{\\sigma}^{z}\\otimes\\hat{I}\\otimes\\hat{\\sigma}^{z}\\otimes\\hat{\\sigma}^{z}\\right]$$\n",
    "\n",
    "For a system of four qubits, the labeling convention is $0,1,2,3$ (top to bottom on circuit). This goes against Qiskit convention, but there are only a couple instances this will matter. The operation $\\hat{H}_{1}$ denotes a Hadamard gate acting on qubit 1, and $\\mbox{CNOT}_{1,2}$ denotes a controlled NOT operation with control on qubit 1 and target on qubit 2. A single Hadamard operation has the matrix representation\n",
    "\n",
    "$$\\hat{H} \\;\\dot{=}\\; \\frac{1}{\\sqrt{2}}\\left(\\begin{array}{cc} 1 & 1\\\\ 1 & -1 \\end{array}\\right)$$\n",
    "\n",
    "The CNOT operation (assuming basis $\\left\\{|00\\rangle, |01\\rangle, |10\\rangle, |11\\rangle\\right\\}$ in the form (control,target)) takes the matrix representation\n",
    "\n",
    "$$\\mbox{CNOT} \\;\\dot{=}\\; \\left(\\begin{array}{cccc} 1 & 0 & 0 & 0 \\\\ 0 & 1 & 0 & 0 \\\\ 0 & 0 & 0 & 1\\\\ 0 & 0 & 1 & 0\\end{array}\\right).$$\n",
    "\n",
    "This setup results in a much more efficient calculation of the theoretical result <i>and</i> a much more efficient circuit implementation using `Estimator`, but it does not result in a direct computation/measurement of the joint conditional probability distribution $P(abc|xz)$.\n",
    "\n",
    "To proceed, we define the state $|\\Psi'\\rangle$ by applying the appropriate operations to $|\\Phi\\rangle = |\\Phi_{00}\\rangle\\otimes|\\Phi_{00}\\rangle$, construct the matrix representation of $\\mathcal{O}$, and compute the expectation value $\\langle \\Psi' |\\mathcal{O}|\\Psi'\\rangle$. We use the shorthand `so` for the ($2\\times 2$) identity matrix. The operation `@` performs matrix multiplication.\n"
   ]
  },
  {
   "cell_type": "code",
   "execution_count": 24,
   "id": "388a1b1e-2fbf-476e-9c29-6a2a372be890",
   "metadata": {},
   "outputs": [
    {
     "name": "stdout",
     "output_type": "stream",
     "text": [
      "(8.485281374238566+0j)\n"
     ]
    }
   ],
   "source": [
    "up = np.array([1,0])\n",
    "do = np.array([0,1])\n",
    "\n",
    "ϕ00 = (np.kron(up,up)+np.kron(do,do))/np.sqrt(2)\n",
    "\n",
    "ψ = np.kron(ϕ00,ϕ00)\n",
    "\n",
    "sz = np.array([[1,0],[0,-1]])\n",
    "sx = np.array([[0,1],[1,0]])\n",
    "sy = np.array([[0,-1j],[1j,0]])\n",
    "so = np.array([[1,0],[0,1]]) #identity matrix\n",
    "\n",
    "H = (1/np.sqrt(2))*np.array([[1,1],[1,-1]])\n",
    "CNOT = np.array([[1,0,0,0],[0,1,0,0],[0,0,0,1],[0,0,1,0]])\n",
    "\n",
    "ψp = np.kron(so,np.kron(H,np.kron(so,so))) @ np.kron(so,np.kron(CNOT,so)) @ ψ\n",
    "\n",
    "O = 2*np.sqrt(2)*np.kron(sx,np.kron(sz,np.kron(so,sx)))\n",
    "O = O - 2*np.sqrt(2)*np.kron(sy,np.kron(sz,np.kron(sz,sy)))\n",
    "O = O + 2*np.sqrt(2)*np.kron(sz,np.kron(so,np.kron(sz,sz)))\n",
    "\n",
    "print(ψp @ O @ ψp)"
   ]
  },
  {
   "cell_type": "markdown",
   "id": "0c8e56ca-59e2-4308-9104-9e6468b4ca2a",
   "metadata": {},
   "source": [
    "## Real-valued QM <a id='rqm2'></a>"
   ]
  },
  {
   "cell_type": "markdown",
   "id": "f3e789ba-7a82-4823-a392-8c3b7f5f4efa",
   "metadata": {},
   "source": [
    "The same type of calculation can be performed using the real representation, so we include it for completion. \n",
    "\n",
    "The essential modifications are as follows.\n",
    "\n",
    "1. The Hadamard operation acts as $\\hat{H}|0\\rangle= (|0\\rangle + |1\\rangle)/\\sqrt{2}$ and $\\hat{H}|1\\rangle = (|0\\rangle - |1\\rangle)/\\sqrt{2}$. Since $|\\overline{0}\\rangle$ corresponds to $i|0\\rangle$ in the real representation (and similarly for $|\\overline{1}\\rangle$, we take $\\hat{H}|\\overline{0}\\rangle= (|\\overline{0}\\rangle + |\\overline{1}\\rangle)/\\sqrt{2}$ and $\\hat{H}|\\overline{1}\\rangle = (|\\overline{0}\\rangle - |\\overline{1}\\rangle)/\\sqrt{2}$. This leads to a real representation for the Hadamard operation as\n",
    "$$\\hat{H} \\; \\dot{=} \\; \\frac{1}{\\sqrt{2}}\\left(\\begin{array}{cccc} 1 & 0 & 1 & 0 \\\\ 0 & 1 & 0 & 1\\\\ 1 & 0 & -1 & 0 \\\\ 0 & 1 & 0 & -1\\end{array}\\right)$$\n",
    "\n",
    "2. The CNOT operation acts on two qubits. We take the operation defined in the complex representation (see above) and extend it to the real representation as with the Hadamard gate (e.g., $\\mbox{CNOT}|1\\mathcal{0}\\rangle = |1\\overline{1}\\rangle$). This leads to a $16\\times 16$ matrix of the form\n",
    "$$\\mbox{CNOT} = \\left(\\begin{array}{cc}{\\bf I} & {\\bf 0}\\\\ {\\bf 0} & {\\bf M}\\end{array}\\right)$$\n",
    "\n",
    "$\\;\\;\\;\\;\\;\\;$Above, ${\\bf I}$ is the eight-dimensional identity, ${\\bf 0}$ is an $8\\times 8$ matrix of zeros, and\n",
    "\n",
    "$${\\bf M} = \\left(\\begin{array}{cccccccc} 0 & 0 & 1 & 0 & 0 & 0 & 0 & 0 \\\\ 0 & 0 & 0 & 1 & 0 & 0 & 0 & 0 \\\\ 1 & 0 & 0 & 0 & 0 & 0 & 0 & 0 \\\\ 0 & 1 & 0 & 0 & 0 & 0 & 0 & 0 \\\\ 0 & 0 & 0 & 0 & 0 & 0 & 1 & 0 \\\\ 0 & 0 & 0 & 0 & 0 & 0 & 0 & 1 \\\\ 0 & 0 & 0 & 0 & 1 & 0 & 0 & 0 \\\\ 0 & 0 & 0 & 0 & 0 & 1 & 0 & 0\\end{array}\\right)$$\n",
    "\n",
    "Aside from these changes (and the four-dimensional representation for the initial state and operators), the calculation proceeds identically to the complex case."
   ]
  },
  {
   "cell_type": "code",
   "execution_count": 25,
   "id": "52d21aa7-47f8-474d-96a0-02df9725f5a1",
   "metadata": {},
   "outputs": [
    {
     "name": "stdout",
     "output_type": "stream",
     "text": [
      "5.656854249492378\n"
     ]
    }
   ],
   "source": [
    "up = np.array([1,0,0,0])\n",
    "do = np.array([0,0,1,0])\n",
    "up1 = np.array([0,1,0,0])\n",
    "do1 = np.array([0,0,0,1])\n",
    "\n",
    "ϕ00a = (np.kron(up,up)+np.kron(do,do))/np.sqrt(2)\n",
    "ϕ00d = (np.kron(up1,up1)+np.kron(do1,do1))/np.sqrt(2)\n",
    "\n",
    "ψ = np.kron(ϕ00a,ϕ00a)\n",
    "\n",
    "sz = np.array([[1,0,0,0],[0,1,0,0],[0,0,-1,0],[0,0,0,-1]])\n",
    "sx = np.array([[0,0,1,0],[0,0,0,1],[1,0,0,0],[0,1,0,0]])\n",
    "sy = np.array([[0,0,0,1],[0,0,-1,0],[0,-1,0,0],[1,0,0,0]])\n",
    "so = np.eye(4)\n",
    "\n",
    "H = (1/np.sqrt(2))*np.array([[1,0,1,0],[1,0,1,0],[0,1,0,-1],[0,1,0,-1]])\n",
    "\n",
    "Z = np.zeros((8,8))\n",
    "I = np.eye(8)\n",
    "M = np.zeros((8,8))\n",
    "\n",
    "M[0,2] = 1\n",
    "M[1,3] = 1\n",
    "M[2,0] = 1\n",
    "M[3,1] = 1\n",
    "M[4,6] = 1\n",
    "M[5,7] = 1\n",
    "M[6,4] = 1\n",
    "M[7,5] = 1\n",
    "\n",
    "CNOT = np.vstack((np.hstack((I,Z)),np.hstack((Z,M))))\n",
    "\n",
    "ψp = np.kron(so,np.kron(H,np.kron(so,so))) @ np.kron(so,np.kron(CNOT,so)) @ ψ\n",
    "\n",
    "O = 2*np.sqrt(2)*np.kron(sx,np.kron(sz,np.kron(so,sx)))\n",
    "O = O - 2*np.sqrt(2)*np.kron(sy,np.kron(sz,np.kron(sz,sy)))\n",
    "O = O + 2*np.sqrt(2)*np.kron(sz,np.kron(so,np.kron(sz,sz)))\n",
    "\n",
    "print(ψp @ O @ ψp)"
   ]
  },
  {
   "cell_type": "markdown",
   "id": "1a55bfe9-0d05-4464-93d5-71107d7efc6a",
   "metadata": {},
   "source": [
    "As before, users can change the initial state. We were unable to find a simple combination (or any combination) which produced $\\Gamma_{r} > 4\\sqrt{2} \\approx 5.657$"
   ]
  },
  {
   "cell_type": "markdown",
   "id": "abc75f0b-fb56-432e-8dce-a4bfab1f0700",
   "metadata": {},
   "source": [
    "## Version information:"
   ]
  },
  {
   "cell_type": "code",
   "execution_count": 26,
   "id": "ff4bc127-f280-475f-995c-f28a67b5b9d4",
   "metadata": {},
   "outputs": [
    {
     "data": {
      "text/plain": [
       "'0.25.0'"
      ]
     },
     "execution_count": 26,
     "metadata": {},
     "output_type": "execute_result"
    }
   ],
   "source": [
    "import qiskit_ibm_runtime\n",
    "\n",
    "qiskit_ibm_runtime.version.get_version_info()"
   ]
  },
  {
   "cell_type": "code",
   "execution_count": 27,
   "id": "6877c9f1-edd8-4292-bd51-649828557c18",
   "metadata": {},
   "outputs": [
    {
     "data": {
      "text/plain": [
       "'1.1.1'"
      ]
     },
     "execution_count": 27,
     "metadata": {},
     "output_type": "execute_result"
    }
   ],
   "source": [
    "import qiskit \n",
    "\n",
    "qiskit.version.get_version_info()"
   ]
  }
 ],
 "metadata": {
  "kernelspec": {
   "display_name": "Python 3 (ipykernel)",
   "language": "python",
   "name": "python3"
  },
  "language_info": {
   "codemirror_mode": {
    "name": "ipython",
    "version": 3
   },
   "file_extension": ".py",
   "mimetype": "text/x-python",
   "name": "python",
   "nbconvert_exporter": "python",
   "pygments_lexer": "ipython3",
   "version": "3.8.5"
  }
 },
 "nbformat": 4,
 "nbformat_minor": 5
}
