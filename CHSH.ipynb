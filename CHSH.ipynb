{
 "cells": [
  {
   "cell_type": "markdown",
   "id": "f1d4e62c",
   "metadata": {},
   "source": [
    "# CHSH calculations"
   ]
  },
  {
   "cell_type": "code",
   "execution_count": 2,
   "id": "78c84a93",
   "metadata": {},
   "outputs": [],
   "source": [
    "import numpy as np\n",
    "from matplotlib import pyplot as plt"
   ]
  },
  {
   "cell_type": "markdown",
   "id": "2fbe9180-91ed-43e5-97ef-bb84d7faad85",
   "metadata": {},
   "source": [
    "## Basic CHSH inequality"
   ]
  },
  {
   "cell_type": "markdown",
   "id": "5c561f22-2860-4fb9-8cc5-161e6c7a5a67",
   "metadata": {},
   "source": [
    "The standard CHSH inequality concerns an experiment where Alice and Bob each measures one qubit from an entangled state. Let us take\n",
    "\n",
    "$$|\\Psi\\rangle = \\left(|01\\rangle - |10\\rangle\\right)/\\sqrt{2}$$\n",
    "\n",
    "Alice makes a random choice to measure either $\\hat{A}_{1} = \\hat{\\sigma}^{z}$ or $\\hat{A}_{2} = \\hat{\\sigma}^{x}$. Bob makes a random choice to measure either $\\hat{B}_{1} = -(\\hat{\\sigma}^{x}+\\hat{\\sigma}^{z})/\\sqrt{2}$ or $\\hat{2}_{1} = (\\hat{\\sigma}^{x}-\\hat{\\sigma}^{z})/\\sqrt{2}$.\n",
    "\n",
    "The CHSH inequality states (based on an assumption of local realism)\n",
    "\n",
    "$$\\langle \\hat{A}_{1}\\hat{B}_{1}\\rangle + \\langle \\hat{A}_{1}\\hat{B}_{2}\\rangle + \\langle \\hat{A}_{2}\\hat{B}_{1}\\rangle -\\langle \\hat{A}_{2}\\hat{B}_{2}\\rangle \\leq 2$$\n",
    "\n",
    "The following cell defines the initial state and appropriate operators."
   ]
  },
  {
   "cell_type": "code",
   "execution_count": 3,
   "id": "22a889fb-73b2-4856-be7c-29b51d93dee9",
   "metadata": {},
   "outputs": [],
   "source": [
    "up = np.array([1,0])\n",
    "do = np.array([0,1])\n",
    "\n",
    "ψ = (np.kron(up,do)-np.kron(do,up))/np.sqrt(2)\n",
    "\n",
    "sz = np.array([[1,0],[0,-1]])\n",
    "sx = np.array([[0,1],[1,0]])\n",
    "\n",
    "A1 = sz\n",
    "A2 = sx\n",
    "\n",
    "B1 = -(sx+sz)/np.sqrt(2)\n",
    "B2 = (sx-sz)/np.sqrt(2)"
   ]
  },
  {
   "cell_type": "markdown",
   "id": "0d935086-c3d8-47af-9cde-f245fa7977c7",
   "metadata": {},
   "source": [
    "We can compute the expectation value on the left-hand side directly, obtaining maximal violation corresponding to $2\\sqrt{2}\\approx 2.828$. The operation `@` performs matrix multiplication."
   ]
  },
  {
   "cell_type": "code",
   "execution_count": 4,
   "id": "3182fb29-2691-4254-856b-d2d43515b49e",
   "metadata": {},
   "outputs": [
    {
     "data": {
      "text/plain": [
       "2.8284271247461894"
      ]
     },
     "execution_count": 4,
     "metadata": {},
     "output_type": "execute_result"
    }
   ],
   "source": [
    "ψ @ (np.kron(A1,B1) + np.kron(A1,B2) + np.kron(A2,B1) - np.kron(A2,B2)) @ ψ"
   ]
  },
  {
   "cell_type": "markdown",
   "id": "7da8ab34-c896-4220-92ab-03b0b6eafde2",
   "metadata": {},
   "source": [
    "We can also repeat exactly the same steps using the real representation discussed in the main text."
   ]
  },
  {
   "cell_type": "code",
   "execution_count": 5,
   "id": "02ec7817-fcb6-45fb-b1fd-5b1c47dd323e",
   "metadata": {},
   "outputs": [],
   "source": [
    "up = np.array([1,0,0,0])\n",
    "do = np.array([0,0,1,0])\n",
    "\n",
    "ψ = (np.kron(up,do)-np.kron(do,up))/np.sqrt(2)\n",
    "\n",
    "sz = np.array([[1,0,0,0],[0,1,0,0],[0,0,-1,0],[0,0,0,-1]])\n",
    "sx = np.array([[0,0,1,0],[0,0,0,1],[1,0,0,0],[0,1,0,0]])\n",
    "\n",
    "A1 = sz\n",
    "A2 = sx\n",
    "\n",
    "B1 = -(sx+sz)/np.sqrt(2)\n",
    "B2 = (sx-sz)/np.sqrt(2)"
   ]
  },
  {
   "cell_type": "markdown",
   "id": "22bdbe26-948b-4d18-9f8d-e41148616bdc",
   "metadata": {},
   "source": [
    "The computation of the LHS looks identical to that in the complex case and results in identical (maximal) violation."
   ]
  },
  {
   "cell_type": "code",
   "execution_count": 6,
   "id": "b046e05e-0e39-4fbf-ac6b-827aed8983b0",
   "metadata": {},
   "outputs": [
    {
     "data": {
      "text/plain": [
       "2.8284271247461894"
      ]
     },
     "execution_count": 6,
     "metadata": {},
     "output_type": "execute_result"
    }
   ],
   "source": [
    "ψ @ (np.kron(A1,B1) + np.kron(A1,B2) + np.kron(A2,B1) - np.kron(A2,B2)) @ ψ"
   ]
  },
  {
   "cell_type": "markdown",
   "id": "3b4e969e-26aa-408b-bdd5-5960f1a79570",
   "metadata": {},
   "source": [
    "## CHSH$_{3}$ inequality\n",
    "\n",
    "Starting with the complex representation, we can also explore the \"triple CHSH\" inequality (using Alice and Charlie as names to match with notation in the main text)\n",
    "\n",
    "$$\\langle \\hat{A}_{1}\\hat{C}_{1}\\rangle + \\langle \\hat{A}_{1}\\hat{C}_{2}\\rangle + \\langle \\hat{A}_{2}\\hat{C}_{1}\\rangle - \\langle \\hat{A}_{2}\\hat{C}_{2}\\rangle + \\langle \\hat{A}_{1}\\hat{C}_{3}\\rangle + \\langle \\hat{A}_{1}\\hat{C}_{4}\\rangle - \\langle \\hat{A}_{3}\\hat{C}_{3}\\rangle + \\langle \\hat{A}_{3}\\hat{C}_{4}\\rangle + \\langle \\hat{A}_{2}\\hat{C}_{5}\\rangle + \\langle \\hat{A}_{2}\\hat{C}_{6}\\rangle - \\langle \\hat{A}_{3}\\hat{C}_{5}\\rangle + \\langle \\hat{A}_{3}\\hat{C}_{6}\\rangle \\leq 6 $$\n",
    "\n",
    "The expression above corresponds to a sum of three independent (basic) CHSH inequalities, and quantum theory provides a maximum violation corresponding to the left-hand side reaching $3(2\\sqrt{2})=6\\sqrt{2}$. To demonstrate violation, we take $|\\Psi\\rangle = (|00\\rangle + |11\\rangle)/\\sqrt{2}$ and\n",
    "\n",
    "$$\\hat{A}_{1} = \\hat{\\sigma}^{z},\\;\\;\\;\\;\\;\\;\\;\\; \\hat{A}_{2} = \\hat{\\sigma}^{x},\\;\\;\\;\\;\\;\\;\\;\\; \\hat{A}_{3} = \\hat{\\sigma}^{y}$$\n",
    "\n",
    "$$\\hat{C}_{1} = (\\hat{\\sigma}^{z}+\\hat{\\sigma}^{x})/\\sqrt{2},\\;\\;\\;\\;\\;\\; \\hat{C}_{2} = (\\hat{\\sigma}^{z}-\\hat{\\sigma}^{x})/\\sqrt{2} \\;\\;\\;\\;\\;\\; \\hat{C}_{3} = (\\hat{\\sigma}^{z}+\\hat{\\sigma}^{y})/\\sqrt{2}$$\n",
    "\n",
    "$$\\hat{C}_{4} = (\\hat{\\sigma}^{z}-\\hat{\\sigma}^{y})/\\sqrt{2},\\;\\;\\;\\;\\;\\; \\hat{C}_{5} = (\\hat{\\sigma}^{x}+\\hat{\\sigma}^{y})/\\sqrt{2} \\;\\;\\;\\;\\;\\; \\hat{C}_{6} = (\\hat{\\sigma}^{x}-\\hat{\\sigma}^{y})/\\sqrt{2}$$\n",
    "\n",
    "Using the complex representation employed above for the basic CHSH inequality, we define the state and operators below."
   ]
  },
  {
   "cell_type": "code",
   "execution_count": 7,
   "id": "ca36ea4c-246e-4b05-842f-c82ce317ad30",
   "metadata": {},
   "outputs": [],
   "source": [
    "up = np.array([1,0])\n",
    "do = np.array([0,1])\n",
    "\n",
    "ψ = (np.kron(up,up)+np.kron(do,do))/np.sqrt(2)\n",
    "\n",
    "sz = np.array([[1,0],[0,-1]])\n",
    "sx = np.array([[0,1],[1,0]])\n",
    "sy = np.array([[0,-1j],[1j,0]])\n",
    "\n",
    "A1 = sz\n",
    "A2 = sx\n",
    "A3 = sy\n",
    "\n",
    "C1 = (sz+sx)/np.sqrt(2)\n",
    "C2 = (sz-sx)/np.sqrt(2)\n",
    "C3 = (sz+sy)/np.sqrt(2)\n",
    "C4 = (sz-sy)/np.sqrt(2)\n",
    "C5 = (sx+sy)/np.sqrt(2)\n",
    "C6 = (sx-sy)/np.sqrt(2)"
   ]
  },
  {
   "cell_type": "markdown",
   "id": "00b91246-e5be-467b-8633-cd5d93ea7538",
   "metadata": {},
   "source": [
    "Writing down the left-hand side of the CHSH$_{3}$ inequality as an expectation value gives the expected violation. $6\\sqrt{2}\\approx 8.845$."
   ]
  },
  {
   "cell_type": "code",
   "execution_count": 8,
   "id": "ef2e707c-2ad1-4b15-b6fc-c47e4da28f43",
   "metadata": {},
   "outputs": [
    {
     "name": "stdout",
     "output_type": "stream",
     "text": [
      "(8.485281374238568+0j)\n"
     ]
    }
   ],
   "source": [
    "CHSH1 = ψ @ (np.kron(A1,C1)+np.kron(A1,C2)+np.kron(A2,C1)-np.kron(A2,C2)) @ ψ\n",
    "CHSH2 = ψ @ (np.kron(A1,C3)+np.kron(A1,C4)-np.kron(A3,C3)+np.kron(A3,C4)) @ ψ\n",
    "CHSH3 = ψ @ (np.kron(A2,C5)+np.kron(A2,C6)-np.kron(A3,C5)+np.kron(A3,C6)) @ ψ\n",
    "\n",
    "print(CHSH1+CHSH2+CHSH3)"
   ]
  },
  {
   "cell_type": "markdown",
   "id": "0c98902d-b694-4c1d-94e4-25c22406d128",
   "metadata": {},
   "source": [
    "We can also use the real representation to compute the left-hand side, as before:"
   ]
  },
  {
   "cell_type": "code",
   "execution_count": 9,
   "id": "9d0b8b92-44cf-4d62-8efa-5efd3e008df3",
   "metadata": {},
   "outputs": [
    {
     "name": "stdout",
     "output_type": "stream",
     "text": [
      "5.656854249492379\n"
     ]
    }
   ],
   "source": [
    "up = np.array([1,0,0,0])\n",
    "do = np.array([0,0,1,0])\n",
    "\n",
    "ψ = (np.kron(up,up)+np.kron(do,do))/np.sqrt(2)\n",
    "\n",
    "sz = np.array([[1,0,0,0],[0,1,0,0],[0,0,-1,0],[0,0,0,-1]])\n",
    "sx = np.array([[0,0,1,0],[0,0,0,1],[1,0,0,0],[0,1,0,0]])\n",
    "sy = np.array([[0,0,0,1],[0,0,-1,0],[0,-1,0,0],[1,0,0,0]])\n",
    "\n",
    "A1 = sz\n",
    "A2 = sx\n",
    "A3 = sy\n",
    "\n",
    "C1 = (sz+sx)/np.sqrt(2)\n",
    "C2 = (sz-sx)/np.sqrt(2)\n",
    "C3 = (sz+sy)/np.sqrt(2)\n",
    "C4 = (sz-sy)/np.sqrt(2)\n",
    "C5 = (sx+sy)/np.sqrt(2)\n",
    "C6 = (sx-sy)/np.sqrt(2)\n",
    "\n",
    "CHSH1 = ψ @ (np.kron(A1,C1)+np.kron(A1,C2)+np.kron(A2,C1)-np.kron(A2,C2)) @ ψ\n",
    "CHSH2 = ψ @ (np.kron(A1,C3)+np.kron(A1,C4)-np.kron(A3,C3)+np.kron(A3,C4)) @ ψ\n",
    "CHSH3 = ψ @ (np.kron(A2,C5)+np.kron(A2,C6)-np.kron(A3,C5)+np.kron(A3,C6)) @ ψ\n",
    "\n",
    "print(CHSH1+CHSH2+CHSH3)"
   ]
  },
  {
   "cell_type": "markdown",
   "id": "7bb4fc41-e901-4590-b61d-3aab1441691e",
   "metadata": {},
   "source": [
    "The real representation leads to a score which does not even violate the CHSH$_{3}$ inequality. Recall that there is a redundancy of states in the real representation. Let us define\n",
    "\n",
    "$$|\\Phi_{00}^{a}\\rangle =\\frac{1}{\\sqrt{2}}\\left(|00\\rangle + |11\\rangle\\right)$$ \n",
    "$$|\\Phi_{00}^{b}\\rangle =\\frac{1}{\\sqrt{2}}\\left(|\\overline{0}0\\rangle + |\\overline{1}1\\rangle\\right)$$ \n",
    "$$|\\Phi_{00}^{c}\\rangle =\\frac{1}{\\sqrt{2}}\\left(|0\\overline{0}\\rangle + |1\\overline{1}\\rangle\\right)$$ \n",
    "$$|\\Phi_{00}^{d}\\rangle =\\frac{1}{\\sqrt{2}}\\left(|\\overline{0}\\overline{0}\\rangle + |\\overline{1}\\overline{1}\\rangle\\right)$$\n",
    "\n",
    "One can experiment with other Bell states as well. It turns out that the state $(|\\Phi_{00}^{a}\\rangle-|\\Phi_{00}^{d}\\rangle)/\\sqrt{2}$ leads to the same maximal violation, indicating that the real representation is capable of producing the same level of correlation as the complex representation in this particular experiment."
   ]
  },
  {
   "cell_type": "code",
   "execution_count": 10,
   "id": "d6d9d0d5-999e-4459-9b3a-2d6e988d51c9",
   "metadata": {},
   "outputs": [
    {
     "name": "stdout",
     "output_type": "stream",
     "text": [
      "8.485281374238568\n"
     ]
    }
   ],
   "source": [
    "up = np.array([1,0,0,0])\n",
    "do = np.array([0,0,1,0])\n",
    "up1 = np.array([0,1,0,0])\n",
    "do1 = np.array([0,0,0,1])\n",
    "\n",
    "ϕ00a = (np.kron(up,up)+np.kron(do,do))/np.sqrt(2)\n",
    "ϕ00d = (np.kron(up1,up1)+np.kron(do1,do1))/np.sqrt(2)\n",
    "\n",
    "ψ = (ϕ00a-ϕ00d)/np.sqrt(2)\n",
    "\n",
    "sz = np.array([[1,0,0,0],[0,1,0,0],[0,0,-1,0],[0,0,0,-1]])\n",
    "sx = np.array([[0,0,1,0],[0,0,0,1],[1,0,0,0],[0,1,0,0]])\n",
    "sy = np.array([[0,0,0,1],[0,0,-1,0],[0,-1,0,0],[1,0,0,0]])\n",
    "\n",
    "A1 = sz\n",
    "A2 = sx\n",
    "A3 = sy\n",
    "\n",
    "C1 = (sz+sx)/np.sqrt(2)\n",
    "C2 = (sz-sx)/np.sqrt(2)\n",
    "C3 = (sz+sy)/np.sqrt(2)\n",
    "C4 = (sz-sy)/np.sqrt(2)\n",
    "C5 = (sx+sy)/np.sqrt(2)\n",
    "C6 = (sx-sy)/np.sqrt(2)\n",
    "\n",
    "CHSH1 = ψ @ (np.kron(A1,C1)+np.kron(A1,C2)+np.kron(A2,C1)-np.kron(A2,C2)) @ ψ\n",
    "CHSH2 = ψ @ (np.kron(A1,C3)+np.kron(A1,C4)-np.kron(A3,C3)+np.kron(A3,C4)) @ ψ\n",
    "CHSH3 = ψ @ (np.kron(A2,C5)+np.kron(A2,C6)-np.kron(A3,C5)+np.kron(A3,C6)) @ ψ\n",
    "\n",
    "print(CHSH1+CHSH2+CHSH3)"
   ]
  },
  {
   "cell_type": "markdown",
   "id": "016f6995-bc43-407c-a91c-6c1e82cbbf32",
   "metadata": {},
   "source": [
    "## Version information:"
   ]
  },
  {
   "cell_type": "code",
   "execution_count": 11,
   "id": "1073a563-af03-42f5-b9c6-de274cf6c0c4",
   "metadata": {},
   "outputs": [
    {
     "data": {
      "text/plain": [
       "'0.25.0'"
      ]
     },
     "execution_count": 11,
     "metadata": {},
     "output_type": "execute_result"
    }
   ],
   "source": [
    "import qiskit_ibm_runtime\n",
    "\n",
    "qiskit_ibm_runtime.version.get_version_info()"
   ]
  },
  {
   "cell_type": "code",
   "execution_count": 12,
   "id": "1631c8f9-1d6c-4b79-ab01-cefa78d1599e",
   "metadata": {},
   "outputs": [
    {
     "data": {
      "text/plain": [
       "'1.1.1'"
      ]
     },
     "execution_count": 12,
     "metadata": {},
     "output_type": "execute_result"
    }
   ],
   "source": [
    "import qiskit \n",
    "\n",
    "qiskit.version.get_version_info()"
   ]
  }
 ],
 "metadata": {
  "kernelspec": {
   "display_name": "Python 3 (ipykernel)",
   "language": "python",
   "name": "python3"
  },
  "language_info": {
   "codemirror_mode": {
    "name": "ipython",
    "version": 3
   },
   "file_extension": ".py",
   "mimetype": "text/x-python",
   "name": "python",
   "nbconvert_exporter": "python",
   "pygments_lexer": "ipython3",
   "version": "3.8.5"
  }
 },
 "nbformat": 4,
 "nbformat_minor": 5
}
