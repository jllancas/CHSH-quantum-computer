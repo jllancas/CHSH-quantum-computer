{
 "cells": [
  {
   "cell_type": "markdown",
   "id": "f4706855",
   "metadata": {},
   "source": [
    "# CHSH simulation via IBM Quantum to accompany [arXiv:2205.01262](https://arxiv.org/abs/2205.01262)"
   ]
  },
  {
   "cell_type": "markdown",
   "id": "2367e7d4",
   "metadata": {},
   "source": [
    "<b>Note: </b> [Qiskit](https://qiskit.org/) must be installed for this to run on a local device. An [IBM Quantum](https://www.ibm.com/quantum) account (free) is required to use quantum hardware, but simulations can be performed with [Qiskit](https://qiskit.org/)."
   ]
  },
  {
   "cell_type": "code",
   "execution_count": null,
   "id": "dbcd138e",
   "metadata": {},
   "outputs": [],
   "source": [
    "from qiskit import *\n",
    "import numpy as np\n",
    "from matplotlib import pyplot as plt"
   ]
  },
  {
   "cell_type": "markdown",
   "id": "53c882c7",
   "metadata": {},
   "source": [
    "Alice and Charlie each select one from a set of operators to measure. Each operator can be represented by a computational basis measurement after rotating the qubit by spherical angles $(-\\phi,-\\theta)$. Twelve combinations are used.\n",
    "\n",
    "With the measurement configuration selected randomly, the basic scheme is to run each of the 12 cases for a large number of shots within a single job. Basic error mitigation is performed by bundling the appropriate number of calibration circuits into the job. "
   ]
  },
  {
   "cell_type": "code",
   "execution_count": 2,
   "id": "1840bdc8",
   "metadata": {},
   "outputs": [],
   "source": [
    "thet2a = np.pi/2\n",
    "phi2a = 0.0\n",
    "\n",
    "thet3a = np.pi/2\n",
    "phi3a = np.pi/2\n",
    "\n",
    "thet1a = 0.0\n",
    "phi1a = 0.0\n",
    "\n",
    "thet1b = np.pi/4\n",
    "phi1b = 0.0\n",
    "\n",
    "thet2b = -np.pi/4\n",
    "phi2b = 0.0\n",
    "\n",
    "thet3b = np.pi/4\n",
    "phi3b = np.pi/2\n",
    "\n",
    "thet4b = np.pi/4\n",
    "phi4b = -np.pi/2\n",
    "\n",
    "thet5b = np.pi/2\n",
    "phi5b = np.pi/4\n",
    "\n",
    "thet6b = np.pi/2\n",
    "phi6b = -np.pi/4\n",
    "\n",
    "angles = np.array([[phi1a,thet1a,phi1b,thet1b],[phi1a,thet1a,phi2b,thet2b],[phi2a,thet2a,phi1b,thet1b],[phi2a,thet2a,phi2b,thet2b],[phi1a,thet1a,phi3b,thet3b],[phi1a,thet1a,phi4b,thet4b],[phi3a,thet3a,phi3b,thet3b],[phi3a,thet3a,phi4b,thet4b],[phi2a,thet2a,phi5b,thet5b],[phi2a,thet2a,phi6b,thet6b],[phi3a,thet3a,phi5b,thet5b],[phi3a,thet3a,phi6b,thet6b]])"
   ]
  },
  {
   "cell_type": "code",
   "execution_count": 4,
   "id": "843181c2",
   "metadata": {},
   "outputs": [],
   "source": [
    "circs = []\n",
    "phi1_vals = angles[:,0]\n",
    "theta1_vals = angles[:,1]\n",
    "phi2_vals = angles[:,2]\n",
    "theta2_vals = angles[:,3]\n",
    "\n",
    "for i in range(0,12):\n",
    "    #qubits used\n",
    "    qb = [0,1,2,3]\n",
    "    \n",
    "    qr = QuantumRegister(5,'q')\n",
    "    cr = ClassicalRegister(4,'c')\n",
    "    circ = QuantumCircuit(qr,cr)\n",
    "\n",
    "    circ.h(qb[0])\n",
    "    circ.cnot(qb[0],qb[1])\n",
    "\n",
    "    circ.h(qb[2])\n",
    "    circ.cnot(qb[2],qb[3])\n",
    "\n",
    "    circ.barrier(qr)\n",
    "\n",
    "    circ.cnot(qb[1],qb[2])\n",
    "    circ.h(qb[1])\n",
    "\n",
    "    circ.barrier(qr)\n",
    "\n",
    "\n",
    "    circ.rz(-phi1_vals[i],qb[0])\n",
    "    circ.ry(-theta1_vals[i],qb[0])\n",
    "\n",
    "    circ.rz(-phi2_vals[i],qb[3])\n",
    "    circ.ry(-theta2_vals[i],qb[3])\n",
    "\n",
    "    circ.measure(qb,cr)\n",
    "    \n",
    "    circs.append(circ)\n"
   ]
  },
  {
   "cell_type": "markdown",
   "id": "b1b53495",
   "metadata": {},
   "source": [
    "Error mitigation (calibration) circuits. For a four-qubit system, each of the states $|0000\\rangle$, $|0001\\rangle$, $\\cdots$, $|1111\\rangle$ is created and measured. From the noisy counts, a calibration matrix can be constructed."
   ]
  },
  {
   "cell_type": "code",
   "execution_count": 5,
   "id": "302f97f4",
   "metadata": {},
   "outputs": [],
   "source": [
    "def mitigation_circ(N):\n",
    "    Ncirc = 2**N\n",
    "    circlist = []\n",
    "    \n",
    "    for i in range(0,Ncirc):\n",
    "        qr = QuantumRegister(5)\n",
    "        cr = ClassicalRegister(N)\n",
    "        qb = [0,1,2,3]\n",
    "        \n",
    "        circ = QuantumCircuit(qr,cr)\n",
    "        \n",
    "        x = format(i, \"b\")\n",
    "        \n",
    "        while (len(x)<N):\n",
    "            x = '0'+x\n",
    "            \n",
    "        for j in range(0,N):\n",
    "            if (x[j]=='1'):\n",
    "                circ.x(qb[j])\n",
    "                \n",
    "        circ.measure(qb,cr)\n",
    "        \n",
    "        circlist.append(circ)\n",
    "    return circlist\n",
    "\n",
    "mitcircs = mitigation_circ(4)"
   ]
  },
  {
   "cell_type": "code",
   "execution_count": 6,
   "id": "fbc874f6",
   "metadata": {},
   "outputs": [],
   "source": [
    "# collect 2^4 = 16 calibration circuits into list\n",
    "\n",
    "for i in range(0,16):\n",
    "    circs.append(mitcircs[i])"
   ]
  },
  {
   "cell_type": "code",
   "execution_count": 7,
   "id": "28fd5f0e",
   "metadata": {},
   "outputs": [],
   "source": [
    "# add circuits for experiment (12) for total of 28 circuits\n",
    "\n",
    "# for statistics, we can make three copies (3*28 = 84 total circuits) to be sent as a single job\n",
    "\n",
    "for i in range(0,2):\n",
    "    for j in range(0,28):\n",
    "        circs.append(circs[j])"
   ]
  },
  {
   "cell_type": "code",
   "execution_count": 8,
   "id": "1b676983",
   "metadata": {},
   "outputs": [
    {
     "data": {
      "text/plain": [
       "84"
      ]
     },
     "execution_count": 8,
     "metadata": {},
     "output_type": "execute_result"
    }
   ],
   "source": [
    "len(circs)"
   ]
  },
  {
   "cell_type": "code",
   "execution_count": 9,
   "id": "4dbf465a",
   "metadata": {},
   "outputs": [
    {
     "data": {
      "text/plain": [
       "<AccountProvider for IBMQ(hub='ibm-q', group='open', project='main')>"
      ]
     },
     "execution_count": 9,
     "metadata": {},
     "output_type": "execute_result"
    }
   ],
   "source": [
    "#Need IBM Quantum API to access quantum devices; this line needs be run only once and can be commented out\n",
    "IBMQ.save_account('PASTE YOUR API HERE') #not necessary if running on IBM Quantum Lab\n",
    "\n",
    "IBMQ.load_account()"
   ]
  },
  {
   "cell_type": "code",
   "execution_count": 10,
   "id": "028d2625",
   "metadata": {},
   "outputs": [],
   "source": [
    "provider = IBMQ.get_provider(hub='ibm-q', group='open', project='main')\n",
    "qcomp = provider.get_backend('ibmq_manila')"
   ]
  },
  {
   "cell_type": "code",
   "execution_count": 11,
   "id": "727012ff",
   "metadata": {},
   "outputs": [
    {
     "name": "stdout",
     "output_type": "stream",
     "text": [
      "Job Status: job has successfully run\n"
     ]
    }
   ],
   "source": [
    "#20000 shots per circuit\n",
    "nshots = 20000\n",
    "job = execute(circs,shots=nshots,\n",
    "              backend=qcomp)\n",
    "from qiskit.tools.monitor import job_monitor\n",
    "job_monitor(job)\n",
    "\n",
    "counts = job.result().get_counts()"
   ]
  },
  {
   "cell_type": "code",
   "execution_count": 43,
   "id": "39a5c200",
   "metadata": {},
   "outputs": [],
   "source": [
    "#slice up results into three sets\n",
    "\n",
    "counts1 = counts[0:28]\n",
    "counts2 = counts[1*28:2*28]\n",
    "counts3 = counts[2*28:3*28]"
   ]
  },
  {
   "cell_type": "code",
   "execution_count": 44,
   "id": "7685b084",
   "metadata": {},
   "outputs": [],
   "source": [
    "#can change to counts1 or counts3 to examine other data sets\n",
    "counts = counts2[0:12]\n",
    "mcounts = counts2[12:]"
   ]
  },
  {
   "cell_type": "code",
   "execution_count": 45,
   "id": "c51ee660",
   "metadata": {},
   "outputs": [],
   "source": [
    "#density matrix\n",
    "ρ=np.zeros((16,12))\n",
    "\n",
    "for i in range(0,12):\n",
    "    counts1 = counts[i]\n",
    "    keylist = list(counts1.keys())\n",
    "    for j in range(0,len(keylist)):\n",
    "        state = keylist[j]\n",
    "        \n",
    "        ρ[int(state[::-1],2),i] = counts1[state]    "
   ]
  },
  {
   "cell_type": "code",
   "execution_count": 46,
   "id": "c68d44e8",
   "metadata": {},
   "outputs": [
    {
     "data": {
      "image/png": "[encoded data removed]",
      "text/plain": [
       "<Figure size 432x288 with 1 Axes>"
      ]
     },
     "metadata": {
      "needs_background": "light"
     },
     "output_type": "display_data"
    }
   ],
   "source": [
    "plt.imshow(ρ,cmap='cividis')\n",
    "plt.show()"
   ]
  },
  {
   "cell_type": "code",
   "execution_count": 47,
   "id": "36f98eb8",
   "metadata": {},
   "outputs": [],
   "source": [
    "#normalize to obtain final ρ\n",
    "\n",
    "Ns = sum(ρ)\n",
    "for i in range(0,12):\n",
    "    ρ[:,i] = ρ[:,i]/Ns[i]"
   ]
  },
  {
   "cell_type": "code",
   "execution_count": 48,
   "id": "aa9efe43",
   "metadata": {},
   "outputs": [],
   "source": [
    "#correlations\n",
    "\n",
    "Sb = np.zeros((4,12))\n",
    "\n",
    "for i in range(0,4):\n",
    "    ib = format(i,'b').zfill(2)\n",
    "    for j in range(0,12):\n",
    "        for k in range(0,16):\n",
    "            kb = format(k,'b').zfill(4)\n",
    "            \n",
    "            ac = 4*(float(kb[0])-0.5)*(float(kb[3])-0.5)\n",
    "            \n",
    "            if (kb[1:3]==ib):\n",
    "                Sb[i,j] = Sb[i,j] + ρ[k,j]*ac"
   ]
  },
  {
   "cell_type": "code",
   "execution_count": 49,
   "id": "d7930094",
   "metadata": {},
   "outputs": [],
   "source": [
    "#game scores\n",
    "\n",
    "Tb = np.zeros(4)\n",
    "\n",
    "for i in range(0,4):\n",
    "    b = format(i,'b').zfill(2)\n",
    "    b1 = int(b[0])\n",
    "    b2 = int(b[1])\n",
    "    \n",
    "    Tb[i] = Tb[i] + ((-1.0)**(b2))*(Sb[i,0]+Sb[i,1]) + ((-1.0)**b1)*(Sb[i,2]-Sb[i,3])\n",
    "    Tb[i] = Tb[i] + ((-1.0)**b2)*(Sb[i,4]+Sb[i,5]) - ((-1.0)**(b1+b2))*(Sb[i,6]-Sb[i,7])\n",
    "    Tb[i] = Tb[i] + ((-1.0)**b1)*(Sb[i,8]+Sb[i,9]) - ((-1.0)**(b1+b2))*(Sb[i,10]-Sb[i,11])"
   ]
  },
  {
   "cell_type": "code",
   "execution_count": 50,
   "id": "683f0171",
   "metadata": {},
   "outputs": [
    {
     "data": {
      "text/plain": [
       "array([1.6454, 1.6132, 1.6427, 1.589 ])"
      ]
     },
     "execution_count": 50,
     "metadata": {},
     "output_type": "execute_result"
    }
   ],
   "source": [
    "Tb"
   ]
  },
  {
   "cell_type": "markdown",
   "id": "d119355e",
   "metadata": {},
   "source": [
    "Final score is given by\n",
    "\n",
    "$$\\mathcal{T} = \\sum_{b}T_{b}$$"
   ]
  },
  {
   "cell_type": "code",
   "execution_count": 51,
   "id": "d6b1bfd3",
   "metadata": {},
   "outputs": [
    {
     "data": {
      "text/plain": [
       "6.490300000000001"
      ]
     },
     "execution_count": 51,
     "metadata": {},
     "output_type": "execute_result"
    }
   ],
   "source": [
    "sum(Tb)"
   ]
  },
  {
   "cell_type": "markdown",
   "id": "9d78ad8c",
   "metadata": {},
   "source": [
    "Theoretically, QM with complex numbers predicts $\\mathcal{T} = 6\\sqrt{2} \\approx 8.49$."
   ]
  },
  {
   "cell_type": "code",
   "execution_count": 52,
   "id": "a1d31394",
   "metadata": {},
   "outputs": [
    {
     "data": {
      "text/plain": [
       "8.485281374238571"
      ]
     },
     "execution_count": 52,
     "metadata": {},
     "output_type": "execute_result"
    }
   ],
   "source": [
    "np.sqrt(2)*6"
   ]
  },
  {
   "cell_type": "markdown",
   "id": "564a4b60",
   "metadata": {},
   "source": [
    "Raw results are not terribly impressive, and traditional framework making use of only real numbers can yield $\\mathcal{T}\\leq 7.66$ (see [here](https://www.nature.com/articles/s41586-021-04160-4)). The next step is to assess whether basic error mitigation can improve the score on the quantum device. Below, we use the calibration runs to construct a calibration matrix."
   ]
  },
  {
   "cell_type": "code",
   "execution_count": 53,
   "id": "f7a7cc3f",
   "metadata": {},
   "outputs": [],
   "source": [
    "nshots = 20000\n",
    "\n",
    "N = 4\n",
    "dictlist = []\n",
    "\n",
    "Ntot = 2**N\n",
    "\n",
    "qcountsbare = {}\n",
    "\n",
    "for i in range(0,Ntot):\n",
    "    x = format(i, \"b\")\n",
    "\n",
    "    while (len(x)<N):\n",
    "        x = '0'+x\n",
    "    x = x[::-1]\n",
    "\n",
    "    qcountsbare[x] = 0\n",
    "    dictlist.append(x)\n",
    "\n",
    "C = np.matrix(np.zeros((2**N,2**N)))\n",
    "\n",
    "for i in range(0,2**N):\n",
    "    row = {**qcountsbare, **mcounts[i]}\n",
    "    for j in range(0,2**N):\n",
    "        C[i,j] = row[dictlist[j]]/nshots"
   ]
  },
  {
   "cell_type": "code",
   "execution_count": 54,
   "id": "930ae5dd",
   "metadata": {},
   "outputs": [],
   "source": [
    "def errormit(dics,C,N,Nt):\n",
    "    #invert matrix (pseudoinverse)\n",
    "    Cin = np.linalg.pinv(C)\n",
    "    \n",
    "    #empty list to store dictionaries\n",
    "    counts_mit = []\n",
    "    \n",
    "    #bare count dictionary to catch missing states\n",
    "    Ntot = 2**N\n",
    "    qcountsbare = {}\n",
    "    for i in range(0,Ntot):\n",
    "        x = format(i, \"b\")\n",
    "        \n",
    "        while (len(x)<N):\n",
    "            x = '0'+x\n",
    "        \n",
    "        x = x[::-1]\n",
    "        qcountsbare[x] = 0\n",
    "        \n",
    "    for j in range(0,Nt):\n",
    "        counts = {**qcountsbare, **dics[j]}\n",
    "        \n",
    "        v = np.zeros(Ntot)\n",
    "        \n",
    "        for i in range(0,Ntot):\n",
    "            x = format(i, \"b\")\n",
    "        \n",
    "            while (len(x)<N):\n",
    "                x = '0'+x\n",
    "        \n",
    "            x = x[::-1]\n",
    "            v[i] = counts[x]\n",
    "            \n",
    "        v = np.matmul(Cin,v)\n",
    "        v = np.array(v)[0]\n",
    "        \n",
    "        newdict = {}\n",
    "        for i in range(0,Ntot):\n",
    "            x = format(i, \"b\")\n",
    "        \n",
    "            while (len(x)<N):\n",
    "                x = '0'+x\n",
    "        \n",
    "            x = x[::-1]\n",
    "            newdict[x] = v[i]\n",
    "        \n",
    "        counts_mit.append(newdict)\n",
    "        \n",
    "    return counts_mit"
   ]
  },
  {
   "cell_type": "markdown",
   "id": "35d8e885",
   "metadata": {},
   "source": [
    "Apply calibration matrix to collected data. It is possible to use built-in operations in Qiskit to do this if the overall scheme is reworked. The present approach is fairly simple, but it <i>does</i> run the risk of generating negative probabilities ([quasiprobabilities](https://quantumcomputing.stackexchange.com/questions/18343/manual-measurement-error-mitigation-returning-a-negative-number-of-counts)). In the [arXiv manuscript](https://arxiv.org/abs/2205.01262), it is noted that this did not pose a problem in the present context. An optimization-based approach which avoids negative probabilities did not alter the results in a significant way."
   ]
  },
  {
   "cell_type": "code",
   "execution_count": 55,
   "id": "a6619d7a",
   "metadata": {},
   "outputs": [],
   "source": [
    "countsm = errormit(counts,C,4,12)"
   ]
  },
  {
   "cell_type": "code",
   "execution_count": 56,
   "id": "7c02076d",
   "metadata": {},
   "outputs": [
    {
     "data": {
      "text/plain": [
       "7.929451322122054"
      ]
     },
     "execution_count": 56,
     "metadata": {},
     "output_type": "execute_result"
    }
   ],
   "source": [
    "ρc=np.zeros((16,12))\n",
    "\n",
    "for i in range(0,12):\n",
    "    counts1 = countsm[i]\n",
    "    keylist = list(counts1.keys())\n",
    "    for j in range(0,len(keylist)):\n",
    "        state = keylist[j]\n",
    "        \n",
    "        ρc[int(state[::-1],2),i] = counts1[state]\n",
    "        \n",
    "Ns = sum(ρc)\n",
    "for i in range(0,12):\n",
    "    ρc[:,i] = ρc[:,i]/Ns[i]\n",
    "    \n",
    "    \n",
    "Sb = np.zeros((4,12))\n",
    "\n",
    "for i in range(0,4):\n",
    "    ib = format(i,'b').zfill(2)\n",
    "    for j in range(0,12):\n",
    "        for k in range(0,16):\n",
    "            kb = format(k,'b').zfill(4)\n",
    "            \n",
    "            ac = 4*(float(kb[0])-0.5)*(float(kb[3])-0.5)\n",
    "            \n",
    "            if (kb[1:3]==ib):\n",
    "                Sb[i,j] = Sb[i,j] + ρc[k,j]*ac\n",
    "                \n",
    "Tb = np.zeros(4)\n",
    "\n",
    "for i in range(0,4):\n",
    "    b = format(i,'b').zfill(2)\n",
    "    b1 = int(b[0])\n",
    "    b2 = int(b[1])\n",
    "    \n",
    "    Tb[i] = Tb[i] + ((-1.0)**(b2))*(Sb[i,0]+Sb[i,1]) + ((-1.0)**b1)*(Sb[i,2]-Sb[i,3])\n",
    "    Tb[i] = Tb[i] + ((-1.0)**b2)*(Sb[i,4]+Sb[i,5]) - ((-1.0)**(b1+b2))*(Sb[i,6]-Sb[i,7])\n",
    "    Tb[i] = Tb[i] + ((-1.0)**b1)*(Sb[i,8]+Sb[i,9]) - ((-1.0)**(b1+b2))*(Sb[i,10]-Sb[i,11])\n",
    "    \n",
    "sum(Tb)"
   ]
  },
  {
   "cell_type": "markdown",
   "id": "c8fb173f",
   "metadata": {},
   "source": [
    "So error mitigation does bring the score above the real/complex threshold of 7.66."
   ]
  },
  {
   "cell_type": "code",
   "execution_count": 57,
   "id": "cbbd065e",
   "metadata": {},
   "outputs": [
    {
     "data": {
      "image/png": "[encoded data removed]",
      "text/plain": [
       "<Figure size 432x288 with 1 Axes>"
      ]
     },
     "metadata": {
      "needs_background": "light"
     },
     "output_type": "display_data"
    }
   ],
   "source": [
    "plt.imshow(ρc)\n",
    "plt.show()"
   ]
  }
 ],
 "metadata": {
  "kernelspec": {
   "display_name": "Python 3 (ipykernel)",
   "language": "python",
   "name": "python3"
  },
  "language_info": {
   "codemirror_mode": {
    "name": "ipython",
    "version": 3
   },
   "file_extension": ".py",
   "mimetype": "text/x-python",
   "name": "python",
   "nbconvert_exporter": "python",
   "pygments_lexer": "ipython3",
   "version": "3.9.5"
  }
 },
 "nbformat": 4,
 "nbformat_minor": 5
}
